{
 "cells": [
  {
   "cell_type": "markdown",
   "metadata": {},
   "source": [
    "# Fitting a model using scipy.optimize.leastsq\n",
    "I am halfway through my [Google Summer of Code project](https://summerofcode.withgoogle.com/) with [Dipy](http://nipy.org/dipy/) under the Python Software Foundation and I have published a few short posts about the project before but in this post I am going to walk through the entire project from the start. This can also be a good tutorial if you want to learn about curve fitting in python, unit testing and getting started with Dipy, a diffusion imaging library in Python.\n",
    "\n",
    "The first part of this post will cover general curve fitting with [leastsq](http://docs.scipy.org/doc/scipy/reference/generated/scipy.optimize.leastsq.html), plotting and writing unit tests. The second part will focus on Dipy and the specific model I am working on - The Intravoxel Incoherent motion model.\n",
    "\n",
    "#### Development branch for the IVIM model in Github : (https://github.com/nipy/dipy/pull/1058)\n",
    "\n",
    "## Curve fitting with leastsq\n",
    "Mathematical models proposed to fit observed data can be charaterized by several parameters. The simplest model is a straight line characterised by the slope (m) and intercept (C). \n",
    "\n",
    "## y = mx + C\n",
    "\n",
    "Given a set of data points, we can determine the parameters m and C by using least squares regression which minimizes the error between the actual data points and those predicted by the model function. To demonstrate how to use leastsq for fitting let us generate some data points by importing the library numpy, defining a linear function and making a scatter plot."
   ]
  },
  {
   "cell_type": "code",
   "execution_count": 140,
   "metadata": {
    "collapsed": false
   },
   "outputs": [],
   "source": [
    "import numpy as np\n",
    "import matplotlib.pyplot as plt\n",
    "from scipy.optimize import leastsq\n",
    "# This is a magic function that renders the plots in the Ipython notebook itself\n",
    "% matplotlib inline "
   ]
  },
  {
   "cell_type": "markdown",
   "metadata": {},
   "source": [
    "Let us define a model function which is an exponential decay curve and depends on two parameters. \n",
    "### y = A exp(-x * B)\n",
    "Documentation is important and we should write what each function does and specify the input and output parameters for each function."
   ]
  },
  {
   "cell_type": "code",
   "execution_count": 141,
   "metadata": {
    "collapsed": true
   },
   "outputs": [],
   "source": [
    "# Define a linear model function\n",
    "def func(params, x):\n",
    "    \"\"\"\n",
    "    Model function. The function is defined by the following equation.\n",
    "                    y = A exp(-x * B)\n",
    "    Parameters\n",
    "    ----------\n",
    "    params : array (2,)\n",
    "        An array with two elements, A and B\n",
    "        \n",
    "    x      : array (N,)\n",
    "        The independent variable\n",
    "    \n",
    "    Returns\n",
    "    -------\n",
    "    y      : array (N,)\n",
    "        The values of the dependent variable\n",
    "    \"\"\"\n",
    "    A, B = params[0], params[1]\n",
    "    return A*np.exp(-x*B)"
   ]
  },
  {
   "cell_type": "markdown",
   "metadata": {},
   "source": [
    "Use numpy's arange to generate an array of \"x\" and apply the function to get a set of data points. We can add some noise by the use of the random number generator in numpy."
   ]
  },
  {
   "cell_type": "code",
   "execution_count": 143,
   "metadata": {
    "collapsed": false
   },
   "outputs": [],
   "source": [
    "x = np.arange(0,400,10)\n",
    "N = x.shape[0]\n",
    "params = 1., 0.01\n",
    "Y = func(params, x)\n",
    "noise = np.random.rand(N)\n",
    "\n",
    "y = Y + noise/5."
   ]
  },
  {
   "cell_type": "markdown",
   "metadata": {},
   "source": [
    "Let us make a scatter plot of our data"
   ]
  },
  {
   "cell_type": "code",
   "execution_count": 144,
   "metadata": {
    "collapsed": false
   },
   "outputs": [
    {
     "data": {
      "image/png": "[encoded data removed]",
      "text/plain": [
       "<matplotlib.figure.Figure at 0xac9a2b2c>"
      ]
     },
     "metadata": {},
     "output_type": "display_data"
    }
   ],
   "source": [
    "plt.scatter(x, y, color='blue')\n",
    "plt.title(\"Plot\")\n",
    "plt.xlabel(\"x\")\n",
    "plt.ylabel(\"y\")\n",
    "plt.show()"
   ]
  },
  {
   "cell_type": "markdown",
   "metadata": {},
   "source": [
    "Now that we have a set of data points, we can go ahead with the fitting using leastsq. Leastsq is a wrapped around the FORTRAN package MINPACK’s lmdif and lmder algorithms. It uses the Levenberg Marquardt algorithm for finding the best fit parameters.\n",
    "\n",
    "Leastsq requires an error function which gives the difference between the observed target data (y) and a (non-linear) function of the parameters f(x, params). You can also specify initial guesses for the parameters using the variable x0. For more reference check out the documentation at http://docs.scipy.org/doc/scipy/reference/generated/scipy.optimize.leastsq.html"
   ]
  },
  {
   "cell_type": "code",
   "execution_count": 91,
   "metadata": {
    "collapsed": true
   },
   "outputs": [],
   "source": [
    "def error_fun(params, x, y):\n",
    "    \"\"\"\n",
    "    Error function for model function.\n",
    "    \n",
    "    Parameters\n",
    "    ----------\n",
    "    params : array (2,)\n",
    "        Parameters for the function\n",
    "        \n",
    "    x      : array (N,)\n",
    "        The independent variable\n",
    "    \n",
    "    y      : array (N,)\n",
    "        The observed variable\n",
    "        \n",
    "    Returns\n",
    "    -------\n",
    "    residual : array (N,)\n",
    "        The difference between observed data and predicted data from the model function\n",
    "\n",
    "    \"\"\"\n",
    "    residual = func(params, x) - y\n",
    "    return residual"
   ]
  },
  {
   "cell_type": "markdown",
   "metadata": {},
   "source": [
    "Now, we are ready to use leastsq for getting the fit. The call to leastsq returns an array whose first element is the set of parameters obtained and the other elements give more information about the fitting."
   ]
  },
  {
   "cell_type": "code",
   "execution_count": 92,
   "metadata": {
    "collapsed": false
   },
   "outputs": [
    {
     "name": "stdout",
     "output_type": "stream",
     "text": [
      "Parameters after leastsq fit are : [ 1.03770447  0.00783634]\n"
     ]
    }
   ],
   "source": [
    "fit = leastsq(error_fun, x0=[0.5, 0.05], args=(x,y))\n",
    "fitted_params = fit[0]\n",
    "print (\"Parameters after leastsq fit are :\", fitted_params)"
   ]
  },
  {
   "cell_type": "markdown",
   "metadata": {},
   "source": [
    "Let us compare our fitting and plot the results."
   ]
  },
  {
   "cell_type": "code",
   "execution_count": 93,
   "metadata": {
    "collapsed": false
   },
   "outputs": [
    {
     "data": {
      "text/plain": [
       "[]"
      ]
     },
     "execution_count": 93,
     "metadata": {},
     "output_type": "execute_result"
    },
    {
     "data": {
      "image/png": "[encoded data removed]",
      "text/plain": [
       "<matplotlib.figure.Figure at 0xabcc12ac>"
      ]
     },
     "metadata": {},
     "output_type": "display_data"
    }
   ],
   "source": [
    "y_predicted = func(fitted_params, x)\n",
    "plt.scatter(y_predicted, x, color=\"red\", label=\"Predicted signal\")\n",
    "plt.scatter(y, x, color=\"blue\", label=\"Actual data\")\n",
    "plt.title(\"Plot results\")\n",
    "plt.xlabel(\"x\")\n",
    "plt.ylabel(\"y\")\n",
    "plt.legend()\n",
    "plt.plot()"
   ]
  },
  {
   "cell_type": "markdown",
   "metadata": {},
   "source": [
    "Congratualations ! You have done your first model fitting with Python. You can now look at other fitting routines such as scipy.optimize.minimize, use different types of model functions and try to write code for more complicated functions and data. But at the heart of it, its as simple as this basic example.  "
   ]
  },
  {
   "cell_type": "markdown",
   "metadata": {},
   "source": [
    "# Writing unit tests\n",
    "\n",
    "Unit testing is a software testing method by which individual units of source code, sets of one or more modules together are tested to determine whether they are fit for use. Unit tests are usually very simple to write and involve very elementary tests on the expected output of your code. In the current context, it can be as simple as checking if your fit gives back the same parameters you used to generate the data. We will be using numpy's unit testing suite for our test."
   ]
  },
  {
   "cell_type": "code",
   "execution_count": 145,
   "metadata": {
    "collapsed": true
   },
   "outputs": [],
   "source": [
    "from numpy.testing import (assert_array_equal, assert_array_almost_equal)\n",
    "\n",
    "def test_fit():\n",
    "    \"\"\"\n",
    "    Test the implementation of leastsq fitting\n",
    "    \"\"\"\n",
    "    x = np.arange(0,400,10)\n",
    "    N = x.shape[0]\n",
    "    params = 1., 0.01\n",
    "    y = func(params, x)\n",
    "    \n",
    "    fit = leastsq(error_fun, x0=[0.5, 0.05], args=(x,y))\n",
    "    fitted_params = fit[0]\n",
    "    predicted_signal = func(fitted_params, x)\n",
    "    \n",
    "    # Check if fit returns parameters for noiseless simulated data\n",
    "    assert_array_equal(params, fitted_params)\n",
    "    assert_array_almost_equal(y, predicted_signal)\n",
    "\n",
    "test_fit()\n",
    "\n",
    "# Usually, the package nosetests is used for unit testing. You can run the command nosetest test_file.py to run\n",
    "# all the tests for a module."
   ]
  },
  {
   "cell_type": "markdown",
   "metadata": {},
   "source": [
    "So your tests pass for a noiseless fit and you get back your original parameters. But what if there is noise in the data ? Let us write a more extreme version of the test and try to see if it fails."
   ]
  },
  {
   "cell_type": "code",
   "execution_count": 146,
   "metadata": {
    "collapsed": false
   },
   "outputs": [
    {
     "ename": "AssertionError",
     "evalue": "\nArrays are not equal\n\n(mismatch 100.0%)\n x: array([ 1.  ,  0.01])\n y: array([ 1.079017,  0.007812])",
     "output_type": "error",
     "traceback": [
      "\u001b[1;31m---------------------------------------------------------------------------\u001b[0m",
      "\u001b[1;31mAssertionError\u001b[0m                            Traceback (most recent call last)",
      "\u001b[1;32m<ipython-input-146-dd7240a6a422>\u001b[0m in \u001b[0;36m<module>\u001b[1;34m()\u001b[0m\n\u001b[0;32m     20\u001b[0m     \u001b[0massert_array_almost_equal\u001b[0m\u001b[1;33m(\u001b[0m\u001b[0my\u001b[0m\u001b[1;33m,\u001b[0m \u001b[0mpredicted_signal\u001b[0m\u001b[1;33m)\u001b[0m\u001b[1;33m\u001b[0m\u001b[0m\n\u001b[0;32m     21\u001b[0m \u001b[1;33m\u001b[0m\u001b[0m\n\u001b[1;32m---> 22\u001b[1;33m \u001b[0mtest_fit_with_noise\u001b[0m\u001b[1;33m(\u001b[0m\u001b[1;33m)\u001b[0m\u001b[1;33m\u001b[0m\u001b[0m\n\u001b[0m",
      "\u001b[1;32m<ipython-input-146-dd7240a6a422>\u001b[0m in \u001b[0;36mtest_fit_with_noise\u001b[1;34m()\u001b[0m\n\u001b[0;32m     17\u001b[0m \u001b[1;33m\u001b[0m\u001b[0m\n\u001b[0;32m     18\u001b[0m     \u001b[1;31m# Check if fit returns parameters for noiseless simulated data\u001b[0m\u001b[1;33m\u001b[0m\u001b[1;33m\u001b[0m\u001b[0m\n\u001b[1;32m---> 19\u001b[1;33m     \u001b[0massert_array_equal\u001b[0m\u001b[1;33m(\u001b[0m\u001b[0mparams\u001b[0m\u001b[1;33m,\u001b[0m \u001b[0mfitted_params\u001b[0m\u001b[1;33m)\u001b[0m\u001b[1;33m\u001b[0m\u001b[0m\n\u001b[0m\u001b[0;32m     20\u001b[0m     \u001b[0massert_array_almost_equal\u001b[0m\u001b[1;33m(\u001b[0m\u001b[0my\u001b[0m\u001b[1;33m,\u001b[0m \u001b[0mpredicted_signal\u001b[0m\u001b[1;33m)\u001b[0m\u001b[1;33m\u001b[0m\u001b[0m\n\u001b[0;32m     21\u001b[0m \u001b[1;33m\u001b[0m\u001b[0m\n",
      "\u001b[1;32m/usr/local/lib/python3.4/dist-packages/numpy/testing/utils.py\u001b[0m in \u001b[0;36massert_array_equal\u001b[1;34m(x, y, err_msg, verbose)\u001b[0m\n\u001b[0;32m    737\u001b[0m     \"\"\"\n\u001b[0;32m    738\u001b[0m     assert_array_compare(operator.__eq__, x, y, err_msg=err_msg,\n\u001b[1;32m--> 739\u001b[1;33m                          verbose=verbose, header='Arrays are not equal')\n\u001b[0m\u001b[0;32m    740\u001b[0m \u001b[1;33m\u001b[0m\u001b[0m\n\u001b[0;32m    741\u001b[0m \u001b[1;32mdef\u001b[0m \u001b[0massert_array_almost_equal\u001b[0m\u001b[1;33m(\u001b[0m\u001b[0mx\u001b[0m\u001b[1;33m,\u001b[0m \u001b[0my\u001b[0m\u001b[1;33m,\u001b[0m \u001b[0mdecimal\u001b[0m\u001b[1;33m=\u001b[0m\u001b[1;36m6\u001b[0m\u001b[1;33m,\u001b[0m \u001b[0merr_msg\u001b[0m\u001b[1;33m=\u001b[0m\u001b[1;34m''\u001b[0m\u001b[1;33m,\u001b[0m \u001b[0mverbose\u001b[0m\u001b[1;33m=\u001b[0m\u001b[1;32mTrue\u001b[0m\u001b[1;33m)\u001b[0m\u001b[1;33m:\u001b[0m\u001b[1;33m\u001b[0m\u001b[0m\n",
      "\u001b[1;32m/usr/local/lib/python3.4/dist-packages/numpy/testing/utils.py\u001b[0m in \u001b[0;36massert_array_compare\u001b[1;34m(comparison, x, y, err_msg, verbose, header, precision)\u001b[0m\n\u001b[0;32m    663\u001b[0m                                 names=('x', 'y'), precision=precision)\n\u001b[0;32m    664\u001b[0m             \u001b[1;32mif\u001b[0m \u001b[1;32mnot\u001b[0m \u001b[0mcond\u001b[0m \u001b[1;33m:\u001b[0m\u001b[1;33m\u001b[0m\u001b[0m\n\u001b[1;32m--> 665\u001b[1;33m                 \u001b[1;32mraise\u001b[0m \u001b[0mAssertionError\u001b[0m\u001b[1;33m(\u001b[0m\u001b[0mmsg\u001b[0m\u001b[1;33m)\u001b[0m\u001b[1;33m\u001b[0m\u001b[0m\n\u001b[0m\u001b[0;32m    666\u001b[0m     \u001b[1;32mexcept\u001b[0m \u001b[0mValueError\u001b[0m \u001b[1;32mas\u001b[0m \u001b[0me\u001b[0m\u001b[1;33m:\u001b[0m\u001b[1;33m\u001b[0m\u001b[0m\n\u001b[0;32m    667\u001b[0m         \u001b[1;32mimport\u001b[0m \u001b[0mtraceback\u001b[0m\u001b[1;33m\u001b[0m\u001b[0m\n",
      "\u001b[1;31mAssertionError\u001b[0m: \nArrays are not equal\n\n(mismatch 100.0%)\n x: array([ 1.  ,  0.01])\n y: array([ 1.079017,  0.007812])"
     ]
    }
   ],
   "source": [
    "def test_fit_with_noise():\n",
    "    \"\"\"\n",
    "    Test the fitting in presence of noise\n",
    "    \"\"\"\n",
    "    x = np.arange(0,400,10)\n",
    "    N = x.shape[0]\n",
    "    params = 1., 0.01\n",
    "    Y = func(params, x)\n",
    "    \n",
    "    noise = np.random.rand(N)\n",
    "\n",
    "    y = Y + noise/5.\n",
    "    \n",
    "    fit = leastsq(error_fun, x0=[0.5, 0.05], args=(x,y))\n",
    "    fitted_params = fit[0]\n",
    "    predicted_signal = func(fitted_params, x)\n",
    "    \n",
    "    # Check if fit returns parameters for noiseless simulated data\n",
    "    assert_array_equal(params, fitted_params)\n",
    "    assert_array_almost_equal(y, predicted_signal)\n",
    "\n",
    "test_fit_with_noise()"
   ]
  },
  {
   "cell_type": "markdown",
   "metadata": {},
   "source": [
    "## Thus, unit tests can make sure that your code is working properly and it behaves as it is expected to behave.\n",
    "\n",
    "==================================================================================================================="
   ]
  },
  {
   "cell_type": "markdown",
   "metadata": {},
   "source": [
    "# The Intravoxel incoherent motion model\n",
    "The Intravoxel incoherent motion model assumes that biological tissue includes a volume fraction of water flowing in perfused capillaries, with a perfusion coefficient D\\* and a fraction (1-f) of static (diffusion only), intra and extracellular water, with a diffusion coefficient D. Magnetic resonance imaging can be used to reconstruct a model of the brain (or any other tissue) using these parameters. Dipy is a python library for the analysis of diffusion MRI data. Let us get started by importing dipy, loading an image dataset and visualizing a slice of the brain. Dipy has \"data fetchers\" which can be used to download different datasets and read an image and load other attributes. We will use the Stanford HARDI dataset in this example. \n",
    "\n",
    "If you want an IVIM dataset you have to pull the `ivim_dev` branch from dipy to get the fetcher `read_ivim` and replace read_stanford_hardi with `read_ivim`. The dataset is provided by Eric Peterson. For more details refer to https://figshare.com/articles/IVIM_dataset/3395704"
   ]
  },
  {
   "cell_type": "code",
   "execution_count": 147,
   "metadata": {
    "collapsed": false
   },
   "outputs": [
    {
     "name": "stdout",
     "output_type": "stream",
     "text": [
      "Dataset is already in place. If you want to fetch it again please first remove the folder /home/shahnawaz/.dipy/ivim \n"
     ]
    }
   ],
   "source": [
    "from dipy.data import read_ivim\n",
    "img, gtab = read_ivim()"
   ]
  },
  {
   "cell_type": "markdown",
   "metadata": {},
   "source": [
    "The function `read_stanford_hardi` downloads the dataset, reads it and returns two objects: an image and a gradient table. The gradient table has b-values and b-vectors which can be accessed by calling gtab.bvals and gtab.bvecs. The b-value is a factor that reflects the strength and timing of the gradients used to generate diffusion-weighted images. The higher the b-value, the stronger the diffusion effects."
   ]
  },
  {
   "cell_type": "code",
   "execution_count": 148,
   "metadata": {
    "collapsed": false
   },
   "outputs": [
    {
     "name": "stdout",
     "output_type": "stream",
     "text": [
      "b-values are :\n",
      " [    0.    10.    20.    30.    40.    60.    80.   100.   120.   140.\n",
      "   160.   180.   200.   300.   400.   500.   600.   700.   800.   900.\n",
      "  1000.]\n"
     ]
    }
   ],
   "source": [
    "print(\"b-values are :\\n\", gtab.bvals)"
   ]
  },
  {
   "cell_type": "markdown",
   "metadata": {},
   "source": [
    "\"img\" is a NIFTI image which can be explored using the nibabel library."
   ]
  },
  {
   "cell_type": "code",
   "execution_count": 149,
   "metadata": {
    "collapsed": false
   },
   "outputs": [
    {
     "name": "stdout",
     "output_type": "stream",
     "text": [
      "<class 'nibabel.nifti1.Nifti1Image'>\n",
      "data shape (256, 256, 54, 21)\n",
      "affine: \n",
      "[[  -0.9375       -0.            0.          120.03099823]\n",
      " [  -0.            0.9375       -0.          -91.56149292]\n",
      " [   0.            0.            2.5         -75.15000153]\n",
      " [   0.            0.            0.            1.        ]]\n",
      "metadata:\n",
      "<class 'nibabel.nifti1.Nifti1Header'> object, endian='<'\n",
      "sizeof_hdr      : 348\n",
      "data_type       : b''\n",
      "db_name         : b''\n",
      "extents         : 0\n",
      "session_error   : 0\n",
      "regular         : b'r'\n",
      "dim_info        : 0\n",
      "dim             : [  4 256 256  54  21   1   1   1]\n",
      "intent_p1       : 0.0\n",
      "intent_p2       : 0.0\n",
      "intent_p3       : 0.0\n",
      "intent_code     : none\n",
      "datatype        : float32\n",
      "bitpix          : 32\n",
      "slice_start     : 0\n",
      "pixdim          : [-1.      0.9375  0.9375  2.5     1.      0.      0.      0.    ]\n",
      "vox_offset      : 0.0\n",
      "scl_slope       : nan\n",
      "scl_inter       : nan\n",
      "slice_end       : 0\n",
      "slice_code      : unknown\n",
      "xyzt_units      : 2\n",
      "cal_max         : 0.0\n",
      "cal_min         : 0.0\n",
      "slice_duration  : 0.0\n",
      "toffset         : 0.0\n",
      "glmax           : 0\n",
      "glmin           : 0\n",
      "descrip         : b''\n",
      "aux_file        : b''\n",
      "qform_code      : aligned\n",
      "sform_code      : scanner\n",
      "quatern_b       : -0.0\n",
      "quatern_c       : 1.0\n",
      "quatern_d       : 0.0\n",
      "qoffset_x       : 120.03099822998047\n",
      "qoffset_y       : -91.56149291992188\n",
      "qoffset_z       : -75.1500015258789\n",
      "srow_x          : [  -0.9375       -0.            0.          120.03099823]\n",
      "srow_y          : [ -0.           0.9375      -0.         -91.56149292]\n",
      "srow_z          : [  0.           0.           2.5        -75.15000153]\n",
      "intent_name     : b''\n",
      "magic           : b'n+1'\n"
     ]
    }
   ],
   "source": [
    "print(img)"
   ]
  },
  {
   "cell_type": "markdown",
   "metadata": {},
   "source": [
    "For our use, we just need the data which can be read by calling the get_data() method of the img object."
   ]
  },
  {
   "cell_type": "code",
   "execution_count": 150,
   "metadata": {
    "collapsed": false
   },
   "outputs": [],
   "source": [
    "data = img.get_data()"
   ]
  },
  {
   "cell_type": "markdown",
   "metadata": {},
   "source": [
    "The data has 54 slices, with 256-by-256 voxels in each slice. The fourth dimension corresponds to the b-values in the gtab."
   ]
  },
  {
   "cell_type": "code",
   "execution_count": 151,
   "metadata": {
    "collapsed": false
   },
   "outputs": [
    {
     "name": "stdout",
     "output_type": "stream",
     "text": [
      "(256, 256, 54, 21)\n"
     ]
    }
   ],
   "source": [
    "print (data.shape)"
   ]
  },
  {
   "cell_type": "markdown",
   "metadata": {
    "collapsed": true
   },
   "source": [
    "Let us take a slice of the data at a particular b value and height (z) and visualize it"
   ]
  },
  {
   "cell_type": "code",
   "execution_count": 152,
   "metadata": {
    "collapsed": false
   },
   "outputs": [
    {
     "data": {
      "image/png": "[encoded data removed]",
      "text/plain": [
       "<matplotlib.figure.Figure at 0xabd87d6c>"
      ]
     },
     "metadata": {},
     "output_type": "display_data"
    }
   ],
   "source": [
    "plt.imshow(data[:,:,31, 0], cmap='gray', origin =\"lower\")\n",
    "plt.show()"
   ]
  },
  {
   "cell_type": "markdown",
   "metadata": {},
   "source": [
    "Thus, for each b value we have a 3d matrix which gives us the signal value in a 256x256x54 box. To see how the signal in one of the points in this volume (one voxel) varies with bvalue, let us consider a random point from the data slice. Say we want the data in a 20x20 square at the height z=31 for all the bvalues, we specify the range of indices from our array using \":\" as :"
   ]
  },
  {
   "cell_type": "code",
   "execution_count": 153,
   "metadata": {
    "collapsed": false
   },
   "outputs": [
    {
     "name": "stdout",
     "output_type": "stream",
     "text": [
      "(20, 20, 21)\n"
     ]
    }
   ],
   "source": [
    "x1, x2 = 100, 120\n",
    "y1, y2 = 150, 170\n",
    "z = 31\n",
    "\n",
    "data_slice = data[x1:x2, y1:y2, z, :]\n",
    "print(data_slice.shape)"
   ]
  },
  {
   "cell_type": "markdown",
   "metadata": {},
   "source": [
    "The data slice is now a 20x20 portion with the third dimension specifying the bvalues. We can visulaize this slice at a particular bvalue and extract the x and y data for the voxel located at (0,0) and for all bvals (:)."
   ]
  },
  {
   "cell_type": "code",
   "execution_count": 154,
   "metadata": {
    "collapsed": false
   },
   "outputs": [
    {
     "data": {
      "image/png": "[encoded data removed]",
      "text/plain": [
       "<matplotlib.figure.Figure at 0xac92452c>"
      ]
     },
     "metadata": {},
     "output_type": "display_data"
    }
   ],
   "source": [
    "plt.imshow(data_slice[0], origin=\"lower\", cmap=\"gray\")\n",
    "plt.show()"
   ]
  },
  {
   "cell_type": "code",
   "execution_count": 155,
   "metadata": {
    "collapsed": false
   },
   "outputs": [
    {
     "data": {
      "text/plain": [
       "[]"
      ]
     },
     "execution_count": 155,
     "metadata": {},
     "output_type": "execute_result"
    },
    {
     "data": {
      "image/png": "[encoded data removed]",
      "text/plain": [
       "<matplotlib.figure.Figure at 0xac8fe48c>"
      ]
     },
     "metadata": {},
     "output_type": "display_data"
    }
   ],
   "source": [
    "xdata = gtab.bvals\n",
    "ydata = data_slice[0,0,:]\n",
    "\n",
    "plt.scatter(xdata, ydata)\n",
    "plt.xlabel(\"b-values\")\n",
    "plt.ylabel(\"Signal\")\n",
    "plt.plot()"
   ]
  },
  {
   "cell_type": "markdown",
   "metadata": {},
   "source": [
    "The fitting method remains the same now. Let us try to fit the IVIM model function on this data and get IVIM parameters for this voxel. The IVIM model function is a bi exponential curve and has 4 parameters S0, f, D_star and D and is defined as follows : \n",
    "## S(b) = S0(f e^(- b D_star) + (1 - f) e^(-b D))"
   ]
  },
  {
   "cell_type": "code",
   "execution_count": 156,
   "metadata": {
    "collapsed": true
   },
   "outputs": [],
   "source": [
    "def ivim_function(params, bvals):\n",
    "    \"\"\"The Intravoxel incoherent motion (IVIM) model function.\n",
    "\n",
    "        S(b) = S_0[f*e^{(-b*D\\*)} + (1-f)e^{(-b*D)}]\n",
    "\n",
    "        S_0, f, D\\* and D are the IVIM parameters.\n",
    "\n",
    "    Parameters\n",
    "    ----------\n",
    "        params : array\n",
    "                parameters S0, f, D_star and D of the model\n",
    "\n",
    "        bvals : array\n",
    "                bvalues\n",
    "\n",
    "    References\n",
    "    ----------\n",
    "    .. [1] Le Bihan, Denis, et al. \"Separation of diffusion\n",
    "               and perfusion in intravoxel incoherent motion MR\n",
    "               imaging.\" Radiology 168.2 (1988): 497-505.\n",
    "    .. [2] Federau, Christian, et al. \"Quantitative measurement\n",
    "               of brain perfusion with intravoxel incoherent motion\n",
    "               MR imaging.\" Radiology 265.3 (2012): 874-881.\n",
    "    \"\"\"\n",
    "    S0, f, D_star, D = params\n",
    "    S = S0 * (f * np.exp(-bvals * D_star) + (1 - f) * np.exp(-bvals * D))\n",
    "    return S\n",
    "\n",
    "\n",
    "def _ivim_error(params, bvals, signal):\n",
    "    \"\"\"Error function to be used in fitting the IVIM model\n",
    "    \"\"\"\n",
    "    return (signal - ivim_function(params, bvals))"
   ]
  },
  {
   "cell_type": "markdown",
   "metadata": {},
   "source": [
    "Once we have our error function, we can use the same procedure to fit an IVIM model by using the leastsq function from scipy.optimize"
   ]
  },
  {
   "cell_type": "code",
   "execution_count": 157,
   "metadata": {
    "collapsed": false
   },
   "outputs": [
    {
     "name": "stdout",
     "output_type": "stream",
     "text": [
      "Parameters estimated using leastsq : [  4.44684213e+03   1.41584992e-02  -1.88101978e-03   1.10032569e-03]\n"
     ]
    }
   ],
   "source": [
    "x0 = [1000., 0.1, 0.01, 0.001]\n",
    "fit = leastsq(_ivim_error,\n",
    "              x0,\n",
    "              args=(xdata, ydata),)\n",
    "\n",
    "estimated_parameters = fit[0]\n",
    "print('Parameters estimated using leastsq :', estimated_parameters)"
   ]
  },
  {
   "cell_type": "code",
   "execution_count": 158,
   "metadata": {
    "collapsed": false
   },
   "outputs": [
    {
     "data": {
      "image/png": "[encoded data removed]",
      "text/plain": [
       "<matplotlib.figure.Figure at 0xa9bd172c>"
      ]
     },
     "metadata": {},
     "output_type": "display_data"
    }
   ],
   "source": [
    "predicted_signal = ivim_function(estimated_parameters, xdata)\n",
    "\n",
    "plt.plot(xdata, predicted_signal, label=\"Estimated signal\")\n",
    "plt.scatter(xdata, ydata, color=\"red\", label=\"Observed data\")\n",
    "plt.xlabel(\"b-values\")\n",
    "plt.ylabel(\"Signal\")\n",
    "plt.legend()\n",
    "plt.show()"
   ]
  },
  {
   "cell_type": "markdown",
   "metadata": {},
   "source": [
    "### This forms the core of the project and once you get the hang of this, you can easily implement any new model for fitting data."
   ]
  }
 ],
 "metadata": {
  "kernelspec": {
   "display_name": "Python 3",
   "language": "python",
   "name": "python3"
  },
  "language_info": {
   "codemirror_mode": {
    "name": "ipython",
    "version": 3
   },
   "file_extension": ".py",
   "mimetype": "text/x-python",
   "name": "python",
   "nbconvert_exporter": "python",
   "pygments_lexer": "ipython3",
   "version": "3.4.3"
  }
 },
 "nbformat": 4,
 "nbformat_minor": 0
}
