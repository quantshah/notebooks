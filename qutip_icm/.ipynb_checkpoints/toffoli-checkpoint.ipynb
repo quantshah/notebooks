{
 "cells": [
  {
   "cell_type": "code",
   "execution_count": 81,
   "metadata": {
    "collapsed": false
   },
   "outputs": [],
   "source": [
    "from qutip.qip.gates import rx, ry, rz, snot, cnot, controlled_gate\n",
    "from qutip.qip.icm import tgate, Icm\n",
    "from qutip.qip import QubitCircuit\n",
    "from qutip import Qobj\n",
    "import numpy as np"
   ]
  },
  {
   "cell_type": "code",
   "execution_count": 82,
   "metadata": {
    "collapsed": false
   },
   "outputs": [],
   "source": [
    "H = snot()\n",
    "T_dagger = rz(-np.pi/4)\n",
    "T = rz(np.pi/4)\n",
    "V = rx(np.pi/2)"
   ]
  },
  {
   "cell_type": "code",
   "execution_count": 83,
   "metadata": {
    "collapsed": false
   },
   "outputs": [],
   "source": [
    "CV = QubitCircuit(2, reverse_states = False)\n",
    "CV.add_gate(\"RZ\", arg_value=-np.pi/4, arg_label = r'-\\pi/4', targets=[0])\n",
    "CV.add_gate(\"SNOT\", targets=[1])\n",
    "CV.add_gate(\"CNOT\", targets = [0], controls=[1])\n",
    "CV.add_gate(\"RZ\", arg_value=-np.pi/4, arg_label = r'-\\pi/4', targets=[1])\n",
    "CV.add_gate(\"RZ\", arg_value=np.pi/4, arg_label = r'\\pi/4', targets=[0])\n",
    "CV.add_gate(\"CNOT\", targets = [0], controls=[1])\n",
    "CV.add_gate(\"SNOT\", targets=[1])"
   ]
  },
  {
   "cell_type": "code",
   "execution_count": 84,
   "metadata": {
    "collapsed": false
   },
   "outputs": [
    {
     "data": {
      "image/png": "[encoded data removed]",
      "text/plain": [
       "<IPython.core.display.Image object>"
      ]
     },
     "execution_count": 84,
     "metadata": {},
     "output_type": "execute_result"
    }
   ],
   "source": [
    "CV.png"
   ]
  },
  {
   "cell_type": "code",
   "execution_count": 85,
   "metadata": {
    "collapsed": true
   },
   "outputs": [],
   "source": [
    "CV_dagger = QubitCircuit(2, reverse_states = False)\n",
    "CV_dagger.add_gate(\"RZ\", arg_value=np.pi/4, arg_label = r'\\pi/4', targets=[0])\n",
    "CV_dagger.add_gate(\"SNOT\", targets=[1])\n",
    "CV_dagger.add_gate(\"CNOT\", targets = [0], controls=[1])\n",
    "CV_dagger.add_gate(\"RZ\", arg_value=np.pi/4, arg_label = r'\\pi/4', targets=[1])\n",
    "CV_dagger.add_gate(\"RZ\", arg_value=-np.pi/4, arg_label = r'-\\pi/4', targets=[0])\n",
    "CV_dagger.add_gate(\"CNOT\", targets = [0], controls=[1])\n",
    "CV_dagger.add_gate(\"SNOT\", targets=[1])"
   ]
  },
  {
   "cell_type": "code",
   "execution_count": 86,
   "metadata": {
    "collapsed": false
   },
   "outputs": [
    {
     "data": {
      "image/png": "[encoded data removed]",
      "text/plain": [
       "<IPython.core.display.Image object>"
      ]
     },
     "execution_count": 86,
     "metadata": {},
     "output_type": "execute_result"
    }
   ],
   "source": [
    "CV.png"
   ]
  },
  {
   "cell_type": "code",
   "execution_count": 87,
   "metadata": {
    "collapsed": false
   },
   "outputs": [
    {
     "data": {
      "text/latex": [
       "Quantum object: dims = [[2, 2], [2, 2]], shape = (4, 4), type = oper, isherm = False\\begin{equation*}\\left(\\begin{array}{*{11}c}1.0 & 0.0 & 0.0 & 0.0\\\\0.0 & 1.0 & 0.0 & 0.0\\\\0.0 & 0.0 & 0.707 & -0.707j\\\\0.0 & 0.0 & -0.707j & 0.707\\\\\\end{array}\\right)\\end{equation*}"
      ],
      "text/plain": [
       "Quantum object: dims = [[2, 2], [2, 2]], shape = (4, 4), type = oper, isherm = False\n",
       "Qobj data =\n",
       "[[ 1.00000000+0.j          0.00000000+0.j          0.00000000+0.j\n",
       "   0.00000000+0.j        ]\n",
       " [ 0.00000000+0.j          1.00000000+0.j          0.00000000+0.j\n",
       "   0.00000000+0.j        ]\n",
       " [ 0.00000000+0.j          0.00000000+0.j          0.70710678+0.j\n",
       "   0.00000000-0.70710678j]\n",
       " [ 0.00000000+0.j          0.00000000+0.j          0.00000000-0.70710678j\n",
       "   0.70710678+0.j        ]]"
      ]
     },
     "execution_count": 87,
     "metadata": {},
     "output_type": "execute_result"
    }
   ],
   "source": [
    "C_V = controlled_gate(V)\n",
    "C_V"
   ]
  },
  {
   "cell_type": "code",
   "execution_count": 74,
   "metadata": {
    "collapsed": false
   },
   "outputs": [
    {
     "data": {
      "text/plain": [
       "<1x4 sparse matrix of type '<class 'numpy.complex128'>'\n",
       "\twith 1 stored elements in Compressed Sparse Row format>"
      ]
     },
     "execution_count": 74,
     "metadata": {},
     "output_type": "execute_result"
    }
   ],
   "source": []
  }
 ],
 "metadata": {
  "anaconda-cloud": {},
  "kernelspec": {
   "display_name": "Python [conda root]",
   "language": "python",
   "name": "conda-root-py"
  },
  "language_info": {
   "codemirror_mode": {
    "name": "ipython",
    "version": 3
   },
   "file_extension": ".py",
   "mimetype": "text/x-python",
   "name": "python",
   "nbconvert_exporter": "python",
   "pygments_lexer": "ipython3",
   "version": "3.5.2"
  }
 },
 "nbformat": 4,
 "nbformat_minor": 1
}
