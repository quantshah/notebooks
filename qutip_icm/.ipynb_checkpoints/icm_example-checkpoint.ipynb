{
 "cells": [
  {
   "cell_type": "markdown",
   "metadata": {},
   "source": [
    "# The ICM algorithm"
   ]
  },
  {
   "cell_type": "markdown",
   "metadata": {},
   "source": [
    "![alt text](icm_algo.png \"ICM algorithm\")"
   ]
  },
  {
   "cell_type": "markdown",
   "metadata": {},
   "source": [
    "# Example to initialise a circuit and decompose into ICM basis gates"
   ]
  },
  {
   "cell_type": "code",
   "execution_count": 31,
   "metadata": {
    "collapsed": true
   },
   "outputs": [],
   "source": [
    "# Imports\n",
    "import numpy as np\n",
    "\n",
    "from qutip.qip.icm import Icm, _icm_gate_dict\n",
    "from qutip import QubitCircuit"
   ]
  },
  {
   "cell_type": "markdown",
   "metadata": {},
   "source": [
    "# Define a new circuit and add some gates"
   ]
  },
  {
   "cell_type": "code",
   "execution_count": 43,
   "metadata": {
    "collapsed": false
   },
   "outputs": [
    {
     "name": "stdout",
     "output_type": "stream",
     "text": [
      "Gate(TOFFOLI, targets=[2], controls=[0, 1])\n",
      "Angle of rotation None\n",
      "\n",
      "\n",
      "Gate(SNOT, targets=[3], controls=None)\n",
      "Angle of rotation None\n",
      "\n",
      "\n",
      "Gate(RX, targets=[5], controls=None)\n",
      "Angle of rotation \\pi\n",
      "\n",
      "\n",
      "Gate(TOFFOLI, targets=[0], controls=[1, 2])\n",
      "Angle of rotation None\n",
      "\n",
      "\n",
      "Gate(SNOT, targets=[2], controls=None)\n",
      "Angle of rotation None\n",
      "\n",
      "\n"
     ]
    }
   ],
   "source": [
    "qcirc = QubitCircuit(5, reverse_states=False)\n",
    "qcirc.add_gate(\"TOFFOLI\", controls=[0, 1], targets=[2])\n",
    "qcirc.add_gate(\"SNOT\", targets=[3])\n",
    "qcirc.add_gate(\"RX\", targets=[5], arg_value=np.pi, arg_label=r'\\pi')\n",
    "qcirc.add_gate(\"TOFFOLI\", controls=[1, 2], targets=[0])\n",
    "qcirc.add_gate(\"SNOT\", targets=[2])\n",
    "\n",
    "# Display gate list\n",
    "\n",
    "def display_gates(circuit):\n",
    "    for gate in circuit.gates:\n",
    "        print(gate)\n",
    "        print(\"Angle of rotation\", gate.arg_label)\n",
    "        print(\"\\n\")\n",
    "        \n",
    "display_gates(qcirc)"
   ]
  },
  {
   "cell_type": "code",
   "execution_count": 50,
   "metadata": {
    "collapsed": false
   },
   "outputs": [
    {
     "name": "stdout",
     "output_type": "stream",
     "text": [
      "Gate(TOFFOLI, targets=[2], controls=[0, 1])\n",
      "Angle of rotation None\n",
      "\n",
      "\n",
      "Gate(SNOT, targets=[3], controls=None)\n",
      "Angle of rotation None\n",
      "\n",
      "\n",
      "Gate(RX, targets=[5], controls=None)\n",
      "Angle of rotation \\pi/2\n",
      "\n",
      "\n",
      "Gate(RX, targets=[5], controls=None)\n",
      "Angle of rotation \\pi/2\n",
      "\n",
      "\n",
      "Gate(TOFFOLI, targets=[0], controls=[1, 2])\n",
      "Angle of rotation None\n",
      "\n",
      "\n",
      "Gate(SNOT, targets=[2], controls=None)\n",
      "Angle of rotation None\n",
      "\n",
      "\n",
      "Gate name RZ\n",
      "Gate name RZ\n",
      "Gate name RX\n",
      "Gate name RZ\n",
      "Gate name RX\n",
      "Gate name RZ\n"
     ]
    }
   ],
   "source": [
    "# Initialise the ICM model with given circuit\n",
    "icm_model = Icm(qcirc)\n",
    "\n",
    "# Decompose gates into Hadamard(SNOT), TOFFOLI, CNOT, P, T, V\n",
    "decomposed = icm_model.decompose_gates()\n",
    "\n",
    "# Display decomposed gates with rotation arguments\n",
    "display_gates(decomposed)\n",
    "\n",
    "# You can see that the RX (pi) rotation is decomposed into two RX(pi/2)\n",
    "# This is because in ICM the valid basis gates are P, T, V which is rotation by\n",
    "# RZ(pi/4), RZ(pi/2) and RX(pi/2)\n",
    "# `_icm_gate_dict` gives a dictionary for the mapping\n",
    "\n",
    "for key in _icm_gate_dict:\n",
    "    print(\"Gate name:\", key[0], \"Angle:\", key[1])\n",
    "    print(\"ICM name:\", _icm_gate_dict[key])\n",
    "    print(\"\\n\")"
   ]
  },
  {
   "cell_type": "markdown",
   "metadata": {},
   "source": [
    "# Ancillae cost calculation for a ICM circuit\n",
    "![alt text](cost.png \"Logo Title Text 1\")"
   ]
  },
  {
   "cell_type": "code",
   "execution_count": 46,
   "metadata": {
    "collapsed": false
   },
   "outputs": [
    {
     "name": "stdout",
     "output_type": "stream",
     "text": [
      "{'TOFFOLI': 84, 'V': 2, 'T': 0, 'P': 0, 'SNOT': 6}\n"
     ]
    }
   ],
   "source": [
    "\"\"\"\n",
    "Calculate the number of ancillae for each gate in a given ICM circuit.\n",
    "\"\"\"\n",
    "ancilla = icm_model.ancilla_cost()\n",
    "print(ancilla)"
   ]
  }
 ],
 "metadata": {
  "anaconda-cloud": {},
  "kernelspec": {
   "display_name": "Python [default]",
   "language": "python",
   "name": "python3"
  },
  "language_info": {
   "codemirror_mode": {
    "name": "ipython",
    "version": 3
   },
   "file_extension": ".py",
   "mimetype": "text/x-python",
   "name": "python",
   "nbconvert_exporter": "python",
   "pygments_lexer": "ipython3",
   "version": "3.5.2"
  }
 },
 "nbformat": 4,
 "nbformat_minor": 1
}
