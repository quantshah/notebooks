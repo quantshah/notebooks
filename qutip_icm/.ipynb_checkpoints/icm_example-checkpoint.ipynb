{
 "cells": [
  {
   "cell_type": "markdown",
   "metadata": {
    "nbpresent": {
     "id": "6984c2e0-2134-4e83-a320-02fb88ae0084"
    },
    "slideshow": {
     "slide_type": "slide"
    }
   },
   "source": [
    "# The ICM algorithm"
   ]
  },
  {
   "cell_type": "markdown",
   "metadata": {
    "slideshow": {
     "slide_type": "fragment"
    }
   },
   "source": [
    "### Requirements\n",
    "\n",
    "* Magic state initializations\n",
    "\n",
    "![alt text](images/y.png \"Y\")\n",
    "\n",
    "![alt text](images/a.png \"Y\")\n",
    "\n",
    "* Hadamard P and T gates\n",
    "\n",
    "![alt text](images/HPT.png \"HPT\")\n",
    "\n",
    "* V gate\n",
    "\n",
    "![alt text](images/vgate.png \"V gate\")"
   ]
  },
  {
   "cell_type": "markdown",
   "metadata": {
    "slideshow": {
     "slide_type": "slide"
    }
   },
   "source": [
    "## Toffoli and Hadamard interms of PVT\n",
    "     \n",
    "* Toffoli decomposition\n",
    "\n",
    "![alt text](images/toffoli_decomposition.png \"ICM algorithm\")\n",
    "\n",
    "* H decomposition\n",
    "\n",
    "![alt text](images/H_decomposition.png \"H decomposition\")\n",
    "\n",
    "* Measurement\n",
    "     Z {0, 1} basis | X {+, -} basis"
   ]
  },
  {
   "cell_type": "markdown",
   "metadata": {
    "slideshow": {
     "slide_type": "slide"
    }
   },
   "source": [
    "## Gate teleportation\n",
    "\n",
    "![alt text](images/gate_teleportation.png \"H decomposition\")"
   ]
  },
  {
   "cell_type": "markdown",
   "metadata": {
    "nbpresent": {
     "id": "8465382b-ef37-453a-a430-c4237fc2c540"
    },
    "slideshow": {
     "slide_type": "slide"
    }
   },
   "source": [
    "## ICM algorithm\n",
    "\n",
    "![alt text](images/icm_algo.png \"ICM algorithm\")"
   ]
  },
  {
   "cell_type": "markdown",
   "metadata": {
    "nbpresent": {
     "id": "86f81dcc-0b97-475f-b17d-ebc03455b9e2"
    },
    "slideshow": {
     "slide_type": "slide"
    }
   },
   "source": [
    "# Qutip\n",
    "\n",
    "### Define a new circuit and add some gates"
   ]
  },
  {
   "cell_type": "code",
   "execution_count": 30,
   "metadata": {
    "collapsed": false,
    "nbpresent": {
     "id": "6fcdcf22-56f3-4436-a759-69cecad65e0d"
    },
    "slideshow": {
     "slide_type": "fragment"
    }
   },
   "outputs": [],
   "source": [
    "# Add the source file for imports\n",
    "import os\n",
    "import sys\n",
    "module_path = os.path.abspath(os.path.join('..'))\n",
    "if module_path not in sys.path:\n",
    "    sys.path.append(module_path)\n",
    "\n",
    "# Imports\n",
    "import numpy as np\n",
    "from qutip import QubitCircuit\n",
    "from source.cicm.icm import Icm, decompose_SNOT, visualise, make_json_file\n",
    "from source.tqec.tqc_generator import convert"
   ]
  },
  {
   "cell_type": "code",
   "execution_count": 31,
   "metadata": {
    "collapsed": true
   },
   "outputs": [],
   "source": [
    "qcircuit = QubitCircuit(2, reverse_states=False)\n",
    "qcircuit.add_gate(\"CNOT\", targets= [0], controls=[1])\n",
    "qcircuit.add_gate(\"RZ\", arg_value = np.pi / 2, arg_label=r\"\\pi/2\", targets=[0])\n",
    "qcircuit.add_gate(\"CNOT\", targets= [0], controls=[1])"
   ]
  },
  {
   "cell_type": "markdown",
   "metadata": {
    "slideshow": {
     "slide_type": "slide"
    }
   },
   "source": [
    "### Display circuit as list of gates"
   ]
  },
  {
   "cell_type": "code",
   "execution_count": 32,
   "metadata": {
    "collapsed": false
   },
   "outputs": [
    {
     "data": {
      "text/plain": [
       "[Gate(CNOT, targets=[0], controls=[1]),\n",
       " Gate(RZ, targets=[0], controls=None),\n",
       " Gate(CNOT, targets=[0], controls=[1])]"
      ]
     },
     "execution_count": 32,
     "metadata": {},
     "output_type": "execute_result"
    }
   ],
   "source": [
    "qcircuit.gates"
   ]
  },
  {
   "cell_type": "code",
   "execution_count": 33,
   "metadata": {
    "collapsed": false
   },
   "outputs": [
    {
     "data": {
      "image/png": "[encoded data removed]",
      "text/plain": [
       "<IPython.core.display.Image object>"
      ]
     },
     "execution_count": 33,
     "metadata": {},
     "output_type": "execute_result"
    }
   ],
   "source": [
    "qcircuit.png"
   ]
  },
  {
   "cell_type": "markdown",
   "metadata": {
    "slideshow": {
     "slide_type": "slide"
    }
   },
   "source": [
    "### Initialise the ICM model with given circuit and covert to ICM representation using `to_icm`"
   ]
  },
  {
   "cell_type": "code",
   "execution_count": 34,
   "metadata": {
    "collapsed": false,
    "nbpresent": {
     "id": "4da74c4e-cc56-4b70-b25b-2655ca1bdcf1"
    },
    "slideshow": {
     "slide_type": "fragment"
    }
   },
   "outputs": [
    {
     "name": "stderr",
     "output_type": "stream",
     "text": [
      "/Users/shahnawaz/dev/qutip/qutip/qip/circuit.py:153: UserWarning: Unknown gate IN\n",
      "  warnings.warn(\"Unknown gate %s\" % name)\n",
      "/Users/shahnawaz/dev/qutip/qutip/qip/circuit.py:153: UserWarning: Unknown gate Y\n",
      "  warnings.warn(\"Unknown gate %s\" % name)\n",
      "/Users/shahnawaz/dev/qutip/qutip/qip/circuit.py:153: UserWarning: Unknown gate z\n",
      "  warnings.warn(\"Unknown gate %s\" % name)\n",
      "/Users/shahnawaz/dev/qutip/qutip/qip/circuit.py:153: UserWarning: Unknown gate xz\n",
      "  warnings.warn(\"Unknown gate %s\" % name)\n",
      "/Users/shahnawaz/dev/qutip/qutip/qip/circuit.py:153: UserWarning: Unknown gate OUT\n",
      "  warnings.warn(\"Unknown gate %s\" % name)\n"
     ]
    },
    {
     "data": {
      "image/png": "[encoded data removed]",
      "text/plain": [
       "<IPython.core.display.Image object>"
      ]
     },
     "execution_count": 34,
     "metadata": {},
     "output_type": "execute_result"
    }
   ],
   "source": [
    "# Create a new icm_model object\n",
    "icm_model = Icm(qcircuit)\n",
    "icm_representation = icm_model.to_icm()\n",
    "icm_representation.png"
   ]
  },
  {
   "cell_type": "markdown",
   "metadata": {},
   "source": [
    "# Apply the function visualise for better viewing\n",
    "\n",
    "* Push all initialisations, and inputs to the start and measurement and corrections to the end.\n",
    "* Get a json dictionary of the gates which can be used to construct the TQC equivalent of the circuit for viewing\n",
    "\n",
    "This should ideally be followed by Pauli tracking which gives the exact sequence for applying gate corrections to each qubit at the end of the circuit"
   ]
  },
  {
   "cell_type": "code",
   "execution_count": 35,
   "metadata": {
    "collapsed": false
   },
   "outputs": [
    {
     "name": "stderr",
     "output_type": "stream",
     "text": [
      "/Users/shahnawaz/dev/qutip/qutip/qip/circuit.py:153: UserWarning: Unknown gate IN\n",
      "  warnings.warn(\"Unknown gate %s\" % name)\n",
      "/Users/shahnawaz/dev/qutip/qutip/qip/circuit.py:153: UserWarning: Unknown gate Y\n",
      "  warnings.warn(\"Unknown gate %s\" % name)\n",
      "/Users/shahnawaz/dev/qutip/qutip/qip/circuit.py:153: UserWarning: Unknown gate z\n",
      "  warnings.warn(\"Unknown gate %s\" % name)\n",
      "/Users/shahnawaz/dev/qutip/qutip/qip/circuit.py:153: UserWarning: Unknown gate xz\n",
      "  warnings.warn(\"Unknown gate %s\" % name)\n",
      "/Users/shahnawaz/dev/qutip/qutip/qip/circuit.py:153: UserWarning: Unknown gate OUT\n",
      "  warnings.warn(\"Unknown gate %s\" % name)\n"
     ]
    },
    {
     "data": {
      "image/png": "[encoded data removed]",
      "text/plain": [
       "<IPython.core.display.Image object>"
      ]
     },
     "execution_count": 35,
     "metadata": {},
     "output_type": "execute_result"
    }
   ],
   "source": [
    "pauli_tracked, json_dict = visualise(icm_representation)\n",
    "pauli_tracked.png"
   ]
  },
  {
   "cell_type": "markdown",
   "metadata": {
    "nbpresent": {
     "id": "c45e9bcd-0a13-4bf3-959e-286cdc573122"
    },
    "slideshow": {
     "slide_type": "slide"
    }
   },
   "source": [
    "# Ancillae cost calculation for a ICM circuit\n",
    "\n",
    "![alt text](cost.png \"Logo Title Text 1\")\n",
    "\n",
    "### `ancilla_cost()`"
   ]
  },
  {
   "cell_type": "code",
   "execution_count": 36,
   "metadata": {
    "collapsed": false,
    "nbpresent": {
     "id": "ee044e2d-034f-416f-8ae3-fc2e8afae065"
    },
    "slideshow": {
     "slide_type": "fragment"
    }
   },
   "outputs": [
    {
     "name": "stdout",
     "output_type": "stream",
     "text": [
      "{'V': 0, 'TOFFOLI': 0, 'T': 0, 'P': 1, 'SNOT': 0}\n"
     ]
    }
   ],
   "source": [
    "\"\"\"\n",
    "Calculate the number of ancillae for each gate in a given ICM circuit.\n",
    "\"\"\"\n",
    "ancilla = icm_model.ancilla_cost()\n",
    "print(ancilla)"
   ]
  },
  {
   "cell_type": "markdown",
   "metadata": {},
   "source": [
    "# Geometry of the circuit in TQC viewer\n",
    "\n",
    "* Generate a json file for the TQC viewer in https://github.com/rxnew/tqc_viewer\n",
    "\n",
    "* After generating the json file, you need to convert it to the geometrical data format by using the converter in https://github.com/rxnew/tqec. To generate the ICM geometry information you need to run `python3 main.py convert icm <filename> \n",
    "\n",
    "* Open the index.html file in the TQC viewer and drag and drop the file generated below.\n"
   ]
  },
  {
   "cell_type": "code",
   "execution_count": 37,
   "metadata": {
    "collapsed": false
   },
   "outputs": [],
   "source": [
    "json_circuit = make_json_file(json_dict, \"icm_test\")"
   ]
  },
  {
   "cell_type": "code",
   "execution_count": 38,
   "metadata": {
    "collapsed": false
   },
   "outputs": [],
   "source": [
    "convert(\"tqec\", 'icm_test.json', 'tqc_geometry')"
   ]
  },
  {
   "cell_type": "markdown",
   "metadata": {},
   "source": [
    "# Visualising the TQC geometry\n",
    "\n",
    "* Open TQC viewer from [tqc_viewer/index.html](tqc_viewer/index.html)\n",
    "\n",
    "* Drag and drop the file you created `tqc_geometry` in the window and you can see your circuit\n",
    "\n",
    "* Click and scroll to zoom in our out\n",
    "\n",
    "* Click and drag to change the view"
   ]
  },
  {
   "cell_type": "markdown",
   "metadata": {
    "collapsed": true
   },
   "source": [
    "# Remaining work\n",
    "\n",
    "* Pauli tracking\n",
    "\n",
    "* Major code clean up, documentation and refactoring\n",
    "\n",
    "* Testing and verification"
   ]
  },
  {
   "cell_type": "code",
   "execution_count": null,
   "metadata": {
    "collapsed": true
   },
   "outputs": [],
   "source": []
  }
 ],
 "metadata": {
  "anaconda-cloud": {},
  "celltoolbar": "Slideshow",
  "kernelspec": {
   "display_name": "Python [conda root]",
   "language": "python",
   "name": "conda-root-py"
  },
  "language_info": {
   "codemirror_mode": {
    "name": "ipython",
    "version": 3
   },
   "file_extension": ".py",
   "mimetype": "text/x-python",
   "name": "python",
   "nbconvert_exporter": "python",
   "pygments_lexer": "ipython3",
   "version": "3.5.2"
  },
  "nbpresent": {
   "slides": {
    "03d394e4-2ab7-408f-beff-4c9027124b51": {
     "id": "03d394e4-2ab7-408f-beff-4c9027124b51",
     "prev": "16d36f01-d204-4422-b8c3-bb8f1908ac84",
     "regions": {
      "8a0f01cd-9a51-4cc7-a85c-d04197b64ef4": {
       "attrs": {
        "height": 0.8,
        "width": 0.8,
        "x": 0.1,
        "y": 0.1
       },
       "content": {
        "cell": "86f81dcc-0b97-475f-b17d-ebc03455b9e2",
        "part": "whole"
       },
       "id": "8a0f01cd-9a51-4cc7-a85c-d04197b64ef4"
      }
     }
    },
    "0dae2079-605f-48ed-82f9-ee0356990424": {
     "id": "0dae2079-605f-48ed-82f9-ee0356990424",
     "prev": "f1f5c433-7012-4725-adad-87e6ddc70e6a",
     "regions": {
      "39f759d7-3578-403b-86fd-10ec9cbab3fe": {
       "attrs": {
        "height": 0.8,
        "width": 0.8,
        "x": 0.1,
        "y": 0.1
       },
       "content": {
        "cell": "56597568-41e1-4cc7-b88c-10713572e666",
        "part": "whole"
       },
       "id": "39f759d7-3578-403b-86fd-10ec9cbab3fe"
      }
     }
    },
    "16d36f01-d204-4422-b8c3-bb8f1908ac84": {
     "id": "16d36f01-d204-4422-b8c3-bb8f1908ac84",
     "prev": "2d7b1e79-001a-4c5e-83cf-1a493e78f5af",
     "regions": {
      "5954edde-6953-44d2-94e9-b69f81a1e84e": {
       "attrs": {
        "height": 0.8,
        "width": 0.8,
        "x": 0.1,
        "y": 0.1
       },
       "content": {
        "cell": "8465382b-ef37-453a-a430-c4237fc2c540",
        "part": "whole"
       },
       "id": "5954edde-6953-44d2-94e9-b69f81a1e84e"
      }
     }
    },
    "2d7b1e79-001a-4c5e-83cf-1a493e78f5af": {
     "id": "2d7b1e79-001a-4c5e-83cf-1a493e78f5af",
     "prev": null,
     "regions": {
      "0a59fe66-1d80-4b2b-8a97-698028ed9224": {
       "attrs": {
        "height": 0.8,
        "width": 0.8,
        "x": 0.1,
        "y": 0.1
       },
       "content": {
        "cell": "6984c2e0-2134-4e83-a320-02fb88ae0084",
        "part": "whole"
       },
       "id": "0a59fe66-1d80-4b2b-8a97-698028ed9224"
      }
     }
    },
    "63f7e360-3b85-484a-8cd8-199c56a80448": {
     "id": "63f7e360-3b85-484a-8cd8-199c56a80448",
     "prev": "6f3ca93e-843c-4599-b452-3332633cfd32",
     "regions": {
      "60917890-588f-4d41-8e64-777f69eaf6da": {
       "attrs": {
        "height": 0.8,
        "width": 0.8,
        "x": 0.1,
        "y": 0.1
       },
       "content": {
        "cell": "8b817599-e2b2-42ec-b16f-00847d4f9947",
        "part": "whole"
       },
       "id": "60917890-588f-4d41-8e64-777f69eaf6da"
      }
     }
    },
    "6f3ca93e-843c-4599-b452-3332633cfd32": {
     "id": "6f3ca93e-843c-4599-b452-3332633cfd32",
     "prev": "b8598d82-bec8-4e0d-828f-a205ac165e9a",
     "regions": {
      "e61e6db5-0285-43aa-b266-85e71e87ad64": {
       "attrs": {
        "height": 0.8,
        "width": 0.8,
        "x": 0.1,
        "y": 0.1
       },
       "content": {
        "cell": "38065c80-9c3d-45a3-8a8f-06b4d5f05b23",
        "part": "whole"
       },
       "id": "e61e6db5-0285-43aa-b266-85e71e87ad64"
      }
     }
    },
    "b07f2f61-f752-4209-8278-8d1827bc9f65": {
     "id": "b07f2f61-f752-4209-8278-8d1827bc9f65",
     "prev": "63f7e360-3b85-484a-8cd8-199c56a80448",
     "regions": {
      "a6b49000-8ca4-4c62-b8b3-7761c6d68765": {
       "attrs": {
        "height": 0.8,
        "width": 0.8,
        "x": 0.1,
        "y": 0.1
       },
       "content": {
        "cell": "c45e9bcd-0a13-4bf3-959e-286cdc573122",
        "part": "whole"
       },
       "id": "a6b49000-8ca4-4c62-b8b3-7761c6d68765"
      }
     }
    },
    "b8598d82-bec8-4e0d-828f-a205ac165e9a": {
     "id": "b8598d82-bec8-4e0d-828f-a205ac165e9a",
     "prev": "fce4626b-2213-4784-b241-8b1a494c9113",
     "regions": {
      "40f76d6f-bb13-466b-ab6a-8775016ada6c": {
       "attrs": {
        "height": 0.8,
        "width": 0.8,
        "x": 0.1,
        "y": 0.1
       },
       "content": {
        "cell": "4da74c4e-cc56-4b70-b25b-2655ca1bdcf1",
        "part": "whole"
       },
       "id": "40f76d6f-bb13-466b-ab6a-8775016ada6c"
      }
     }
    },
    "f1f5c433-7012-4725-adad-87e6ddc70e6a": {
     "id": "f1f5c433-7012-4725-adad-87e6ddc70e6a",
     "prev": "03d394e4-2ab7-408f-beff-4c9027124b51",
     "regions": {
      "affae950-1c9e-461e-bb4b-471831b40ac2": {
       "attrs": {
        "height": 0.8,
        "width": 0.8,
        "x": 0.1,
        "y": 0.1
       },
       "content": {
        "cell": "fe604e4a-5e7e-4ca2-8a15-51623021b78b",
        "part": "whole"
       },
       "id": "affae950-1c9e-461e-bb4b-471831b40ac2"
      }
     }
    },
    "f319c01c-0a4b-4afc-a8bb-cc4c775cde0c": {
     "id": "f319c01c-0a4b-4afc-a8bb-cc4c775cde0c",
     "prev": "b07f2f61-f752-4209-8278-8d1827bc9f65",
     "regions": {
      "66944db8-9da3-41b6-9081-6d5f35351045": {
       "attrs": {
        "height": 0.8,
        "width": 0.8,
        "x": 0.1,
        "y": 0.1
       },
       "content": {
        "cell": "ee044e2d-034f-416f-8ae3-fc2e8afae065",
        "part": "whole"
       },
       "id": "66944db8-9da3-41b6-9081-6d5f35351045"
      }
     }
    },
    "fce4626b-2213-4784-b241-8b1a494c9113": {
     "id": "fce4626b-2213-4784-b241-8b1a494c9113",
     "prev": "0dae2079-605f-48ed-82f9-ee0356990424",
     "regions": {
      "14b8a66c-0cf6-4d6b-8149-e9a8022aa866": {
       "attrs": {
        "height": 0.8,
        "width": 0.8,
        "x": 0.1,
        "y": 0.1
       },
       "content": {
        "cell": "6fcdcf22-56f3-4436-a759-69cecad65e0d",
        "part": "whole"
       },
       "id": "14b8a66c-0cf6-4d6b-8149-e9a8022aa866"
      }
     }
    }
   },
   "themes": {
    "default": "435602fe-7dbf-49e4-b867-68a12a49491c",
    "theme": {
     "435602fe-7dbf-49e4-b867-68a12a49491c": {
      "id": "435602fe-7dbf-49e4-b867-68a12a49491c",
      "palette": {
       "19cc588f-0593-49c9-9f4b-e4d7cc113b1c": {
        "id": "19cc588f-0593-49c9-9f4b-e4d7cc113b1c",
        "rgb": [
         252,
         252,
         252
        ]
       },
       "31af15d2-7e15-44c5-ab5e-e04b16a89eff": {
        "id": "31af15d2-7e15-44c5-ab5e-e04b16a89eff",
        "rgb": [
         68,
         68,
         68
        ]
       },
       "50f92c45-a630-455b-aec3-788680ec7410": {
        "id": "50f92c45-a630-455b-aec3-788680ec7410",
        "rgb": [
         155,
         177,
         192
        ]
       },
       "c5cc3653-2ee1-402a-aba2-7caae1da4f6c": {
        "id": "c5cc3653-2ee1-402a-aba2-7caae1da4f6c",
        "rgb": [
         43,
         126,
         184
        ]
       },
       "efa7f048-9acb-414c-8b04-a26811511a21": {
        "id": "efa7f048-9acb-414c-8b04-a26811511a21",
        "rgb": [
         25.118061674008803,
         73.60176211453744,
         107.4819383259912
        ]
       }
      },
      "rules": {
       "blockquote": {
        "color": "50f92c45-a630-455b-aec3-788680ec7410"
       },
       "code": {
        "font-family": "Anonymous Pro"
       },
       "h1": {
        "color": "c5cc3653-2ee1-402a-aba2-7caae1da4f6c",
        "font-family": "Lato",
        "font-size": 8
       },
       "h2": {
        "color": "c5cc3653-2ee1-402a-aba2-7caae1da4f6c",
        "font-family": "Lato",
        "font-size": 6
       },
       "h3": {
        "color": "50f92c45-a630-455b-aec3-788680ec7410",
        "font-family": "Lato",
        "font-size": 5.5
       },
       "h4": {
        "color": "c5cc3653-2ee1-402a-aba2-7caae1da4f6c",
        "font-family": "Lato",
        "font-size": 5
       },
       "h5": {
        "font-family": "Lato"
       },
       "h6": {
        "font-family": "Lato"
       },
       "h7": {
        "font-family": "Lato"
       },
       "pre": {
        "font-family": "Anonymous Pro",
        "font-size": 4
       }
      },
      "text-base": {
       "font-family": "Merriweather",
       "font-size": 4
      }
     }
    }
   }
  }
 },
 "nbformat": 4,
 "nbformat_minor": 1
}
