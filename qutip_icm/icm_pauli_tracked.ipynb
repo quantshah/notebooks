{
 "cells": [
  {
   "cell_type": "markdown",
   "metadata": {},
   "source": [
    "# Simple example of ICM decompostion of P, T, V gates"
   ]
  },
  {
   "cell_type": "code",
   "execution_count": 1,
   "metadata": {
    "collapsed": false
   },
   "outputs": [],
   "source": [
    "from qutip import QubitCircuit\n",
    "from qutip.qip.icm import Icm, pauli_tracking, decompose_SNOT, decompose_toffoli\n",
    "import numpy as np"
   ]
  },
  {
   "cell_type": "markdown",
   "metadata": {},
   "source": [
    "# Create a circuit with a mix of CNOT and P gate"
   ]
  },
  {
   "cell_type": "code",
   "execution_count": 2,
   "metadata": {
    "collapsed": false
   },
   "outputs": [
    {
     "data": {
      "image/png": "[encoded data removed]",
      "text/plain": [
       "<IPython.core.display.Image object>"
      ]
     },
     "execution_count": 2,
     "metadata": {},
     "output_type": "execute_result"
    }
   ],
   "source": [
    "qcircuit = QubitCircuit(1, reverse_states=False)\n",
    "# qcircuit.add_gate(\"CNOT\", targets= [0], controls=[1])\n",
    "# qcircuit.add_gate(\"CNOT\", targets= [1], controls=[0])\n",
    "\n",
    "# Add P gate, RX(pi/2)\n",
    "qcircuit.add_gate(\"SNOT\", targets=[0])\n",
    "\n",
    "# Add additional CNOT in the end\n",
    "# qcircuit.add_gate(\"CNOT\", targets= [1], controls=[0])\n",
    "\n",
    "# Visualize circuit\n",
    "decompose_SNOT(qcircuit).png"
   ]
  },
  {
   "cell_type": "markdown",
   "metadata": {},
   "source": [
    "# Initialize the ICM model and visualize the ICM circuit (No Pauli tracking)"
   ]
  },
  {
   "cell_type": "code",
   "execution_count": 3,
   "metadata": {
    "collapsed": false
   },
   "outputs": [
    {
     "name": "stdout",
     "output_type": "stream",
     "text": [
      "P\n",
      "V\n",
      "P\n"
     ]
    },
    {
     "name": "stderr",
     "output_type": "stream",
     "text": [
      "/Users/shahnawaz/dev/qutip/qutip/qip/circuit.py:153: UserWarning: Unknown gate Z\n",
      "  warnings.warn(\"Unknown gate %s\" % name)\n",
      "/Users/shahnawaz/dev/qutip/qutip/qip/circuit.py:153: UserWarning: Unknown gate XZ\n",
      "  warnings.warn(\"Unknown gate %s\" % name)\n"
     ]
    },
    {
     "data": {
      "image/png": "[encoded data removed]",
      "text/plain": [
       "<IPython.core.display.Image object>"
      ]
     },
     "execution_count": 3,
     "metadata": {},
     "output_type": "execute_result"
    }
   ],
   "source": [
    "# Initialize the ICM model and convert to icm\n",
    "model = Icm(qcircuit)\n",
    "\n",
    "dc = model.decompose_gates()\n",
    "icm_circuit = pauli_tracking(model.to_icm())\n",
    "# Display\n",
    "icm_circuit.png\n"
   ]
  },
  {
   "cell_type": "markdown",
   "metadata": {},
   "source": [
    "# Apply Pauli tracking (needs more work on the measurement sequence)"
   ]
  },
  {
   "cell_type": "code",
   "execution_count": null,
   "metadata": {
    "collapsed": false
   },
   "outputs": [],
   "source": [
    "# Apply Pauli tracking to move ancilla to begining and corrections to end\n",
    "pauli_tracked = pauli_tracking(icm_circuit)\n",
    "# Display Pauli tracked circuit (This needs more work to get the correct measurement sequence)\n",
    "pauli_tracked.png"
   ]
  },
  {
   "cell_type": "markdown",
   "metadata": {},
   "source": [
    "# T gate with selective source and selective destination"
   ]
  },
  {
   "cell_type": "code",
   "execution_count": null,
   "metadata": {
    "collapsed": false
   },
   "outputs": [],
   "source": [
    "# T gate implementation (RZ(pi/4))\n",
    "qcircuit2 = QubitCircuit(2, reverse_states=False)\n",
    "qcircuit2.add_gate(\"CNOT\", targets=[0], controls = [1])\n",
    "qcircuit2.add_gate(\"CNOT\", targets=[1], controls = [0])\n",
    "qcircuit2.add_gate(\"RZ\", arg_value = np.pi / 4, arg_label=r\"\\pi/4\", targets=[1])\n",
    "qcircuit2.add_gate(\"CNOT\", targets=[1], controls = [0])\n",
    "\n",
    "qcircuit2.png"
   ]
  },
  {
   "cell_type": "markdown",
   "metadata": {},
   "source": [
    "# Icm version of T gate between CNOTs"
   ]
  },
  {
   "cell_type": "code",
   "execution_count": null,
   "metadata": {
    "collapsed": false
   },
   "outputs": [],
   "source": [
    "icm_model = Icm(qcircuit2)\n",
    "icm_circuit = icm_model.to_icm()\n",
    "\n",
    "icm_circuit.png"
   ]
  },
  {
   "cell_type": "markdown",
   "metadata": {},
   "source": [
    "# Apply Pauli tracking (trivial)"
   ]
  },
  {
   "cell_type": "code",
   "execution_count": null,
   "metadata": {
    "collapsed": false
   },
   "outputs": [],
   "source": [
    "# Visualize with Pauli tracking\n",
    "pauli_tracked_T = pauli_tracking(icm_circuit)\n",
    "\n",
    "pauli_tracked_T.png"
   ]
  },
  {
   "cell_type": "code",
   "execution_count": null,
   "metadata": {
    "collapsed": true
   },
   "outputs": [],
   "source": []
  }
 ],
 "metadata": {
  "anaconda-cloud": {},
  "kernelspec": {
   "display_name": "Python [conda root]",
   "language": "python",
   "name": "conda-root-py"
  },
  "language_info": {
   "codemirror_mode": {
    "name": "ipython",
    "version": 3
   },
   "file_extension": ".py",
   "mimetype": "text/x-python",
   "name": "python",
   "nbconvert_exporter": "python",
   "pygments_lexer": "ipython3",
   "version": "3.5.2"
  }
 },
 "nbformat": 4,
 "nbformat_minor": 1
}
