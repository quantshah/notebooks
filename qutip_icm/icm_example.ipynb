{
 "cells": [
  {
   "cell_type": "markdown",
   "metadata": {
    "nbpresent": {
     "id": "6984c2e0-2134-4e83-a320-02fb88ae0084"
    },
    "slideshow": {
     "slide_type": "slide"
    }
   },
   "source": [
    "# The ICM algorithm"
   ]
  },
  {
   "cell_type": "markdown",
   "metadata": {
    "slideshow": {
     "slide_type": "fragment"
    }
   },
   "source": [
    "### Requirements\n",
    "\n",
    "* Magic state initializations\n",
    "\n",
    "![alt text](y.png \"Y\")\n",
    "\n",
    "![alt text](a.png \"Y\")\n",
    "\n",
    "* Hadamard P and T gates\n",
    "\n",
    "![alt text](HPT.png \"HPT\")\n",
    "\n",
    "* V gate\n",
    "\n",
    "![alt text](vgate.png \"V gate\")"
   ]
  },
  {
   "cell_type": "markdown",
   "metadata": {
    "slideshow": {
     "slide_type": "slide"
    }
   },
   "source": [
    "## Toffoli and Hadamard interms of PVT\n",
    "     \n",
    "* Toffoli decomposition\n",
    "\n",
    "![alt text](toffoli_decomposition.png \"ICM algorithm\")\n",
    "\n",
    "* H decomposition\n",
    "\n",
    "![alt text](H_decomposition.png \"H decomposition\")\n",
    "\n",
    "* Measurement\n",
    "     Z {0, 1} basis | X {+, -} basis"
   ]
  },
  {
   "cell_type": "markdown",
   "metadata": {
    "slideshow": {
     "slide_type": "slide"
    }
   },
   "source": [
    "## Gate teleportation\n",
    "\n",
    "![alt text](gate_teleportation.png \"H decomposition\")"
   ]
  },
  {
   "cell_type": "markdown",
   "metadata": {
    "nbpresent": {
     "id": "8465382b-ef37-453a-a430-c4237fc2c540"
    },
    "slideshow": {
     "slide_type": "slide"
    }
   },
   "source": [
    "## ICM algorithm\n",
    "\n",
    "![alt text](icm_algo.png \"ICM algorithm\")"
   ]
  },
  {
   "cell_type": "markdown",
   "metadata": {
    "nbpresent": {
     "id": "86f81dcc-0b97-475f-b17d-ebc03455b9e2"
    },
    "slideshow": {
     "slide_type": "slide"
    }
   },
   "source": [
    "# Qutip\n",
    "\n",
    "### Define a new circuit and add some gates"
   ]
  },
  {
   "cell_type": "code",
   "execution_count": 1,
   "metadata": {
    "collapsed": false,
    "nbpresent": {
     "id": "6fcdcf22-56f3-4436-a759-69cecad65e0d"
    },
    "slideshow": {
     "slide_type": "fragment"
    }
   },
   "outputs": [],
   "source": [
    "# Imports\n",
    "import numpy as np\n",
    "from qutip import QubitCircuit\n",
    "from qutip.qip.icm import Icm\n",
    "qcircuit = QubitCircuit(5)\n",
    "qcircuit.add_gate(\"TOFFOLI\", controls=[0, 1], targets=[2])\n",
    "qcircuit.add_gate(\"SNOT\", targets=[3])\n",
    "qcircuit.add_gate(\"RX\", targets=[5], arg_value=np.pi, arg_label=r'\\pi')\n",
    "qcircuit.add_gate(\"TOFFOLI\", controls=[2, 3], targets=[4])"
   ]
  },
  {
   "cell_type": "markdown",
   "metadata": {
    "slideshow": {
     "slide_type": "slide"
    }
   },
   "source": [
    "### Display circuit as gate list with name, targets, controls, arg_value, arg_label"
   ]
  },
  {
   "cell_type": "code",
   "execution_count": null,
   "metadata": {
    "collapsed": false,
    "slideshow": {
     "slide_type": "fragment"
    }
   },
   "outputs": [],
   "source": [
    "def display_gates(circuit):\n",
    "    \"\"\"\n",
    "    This function displays the circuit as a list of gates\n",
    "    \"\"\"\n",
    "    for gate in circuit.gates:\n",
    "        print(gate, \"| arg_label:\", gate.arg_label, \"| arg_value:\", gate.arg_value)\n",
    "        \n",
    "display_gates(qcircuit)"
   ]
  },
  {
   "cell_type": "markdown",
   "metadata": {
    "slideshow": {
     "slide_type": "slide"
    }
   },
   "source": [
    "### Initialise the ICM model with given circuit"
   ]
  },
  {
   "cell_type": "code",
   "execution_count": null,
   "metadata": {
    "collapsed": false,
    "nbpresent": {
     "id": "4da74c4e-cc56-4b70-b25b-2655ca1bdcf1"
    },
    "slideshow": {
     "slide_type": "fragment"
    }
   },
   "outputs": [],
   "source": [
    "# Import the `Icm class` from the file icm.py\n",
    "# In standard Python these imports should be in the begining of file\n",
    "\n",
    "from qutip.qip.icm import Icm\n",
    "\n",
    "# Create a new icm_model object\n",
    "icm_model = Icm(qcircuit)\n",
    "display_gates(icm_model.qcircuit)"
   ]
  },
  {
   "cell_type": "markdown",
   "metadata": {
    "slideshow": {
     "slide_type": "slide"
    }
   },
   "source": [
    "## Functions defined in `icm.py`\n",
    "### `decompose_gates()`"
   ]
  },
  {
   "cell_type": "code",
   "execution_count": null,
   "metadata": {
    "collapsed": false,
    "slideshow": {
     "slide_type": "fragment"
    }
   },
   "outputs": [],
   "source": [
    "# Decompose gates into Hadamard(SNOT), TOFFOLI, CNOT, P, T, V\n",
    "decomposed = icm_model.decompose_gates()\n",
    "\n",
    "# Display decomposed gates with rotation arguments\n",
    "display_gates(decomposed)\n",
    "\n",
    "# You can see that the RX (pi) rotation is decomposed into two RX(pi/2)\n",
    "# This is because in ICM the valid basis gates are P, T, V which is rotation by\n",
    "# RZ(pi/4), RZ(pi/2) and RX(pi/2)"
   ]
  },
  {
   "cell_type": "code",
   "execution_count": null,
   "metadata": {
    "collapsed": false,
    "slideshow": {
     "slide_type": "slide"
    }
   },
   "outputs": [],
   "source": [
    "from qutip.qip.icm import _icm_gate_dict\n",
    "for key in _icm_gate_dict:\n",
    "    print(key, _icm_gate_dict[key])"
   ]
  },
  {
   "cell_type": "markdown",
   "metadata": {
    "slideshow": {
     "slide_type": "slide"
    }
   },
   "source": [
    "### decompose_toffoli()"
   ]
  },
  {
   "cell_type": "code",
   "execution_count": null,
   "metadata": {
    "collapsed": false,
    "nbpresent": {
     "id": "8b817599-e2b2-42ec-b16f-00847d4f9947"
    },
    "slideshow": {
     "slide_type": "slide"
    }
   },
   "outputs": [],
   "source": [
    "from qutip.qip.icm import decompose_toffoli\n",
    "toffoli_decomposed = decompose_toffoli(decomposed)\n",
    "\n",
    "display_gates(toffoli_decomposed)"
   ]
  },
  {
   "cell_type": "markdown",
   "metadata": {
    "slideshow": {
     "slide_type": "slide"
    }
   },
   "source": [
    "### `decompose_SNOT()`"
   ]
  },
  {
   "cell_type": "code",
   "execution_count": null,
   "metadata": {
    "collapsed": false,
    "slideshow": {
     "slide_type": "fragment"
    }
   },
   "outputs": [],
   "source": [
    "from qutip.qip.icm import decompose_SNOT\n",
    "\n",
    "hadamard_decomposed = decompose_SNOT(decomposed)\n",
    "display_gates(hadamard_decomposed)"
   ]
  },
  {
   "cell_type": "code",
   "execution_count": null,
   "metadata": {
    "collapsed": false,
    "slideshow": {
     "slide_type": "slide"
    }
   },
   "outputs": [],
   "source": [
    "display_gates(decompose_SNOT(toffoli_decomposed))"
   ]
  },
  {
   "cell_type": "markdown",
   "metadata": {
    "nbpresent": {
     "id": "c45e9bcd-0a13-4bf3-959e-286cdc573122"
    },
    "slideshow": {
     "slide_type": "slide"
    }
   },
   "source": [
    "# Ancillae cost calculation for a ICM circuit\n",
    "\n",
    "![alt text](cost.png \"Logo Title Text 1\")\n",
    "\n",
    "### `ancilla_cost()`"
   ]
  },
  {
   "cell_type": "code",
   "execution_count": null,
   "metadata": {
    "collapsed": false,
    "nbpresent": {
     "id": "ee044e2d-034f-416f-8ae3-fc2e8afae065"
    },
    "slideshow": {
     "slide_type": "fragment"
    }
   },
   "outputs": [],
   "source": [
    "\"\"\"\n",
    "Calculate the number of ancillae for each gate in a given ICM circuit.\n",
    "\"\"\"\n",
    "ancilla = icm_model.ancilla_cost()\n",
    "print(ancilla)"
   ]
  },
  {
   "cell_type": "markdown",
   "metadata": {
    "slideshow": {
     "slide_type": "slide"
    }
   },
   "source": [
    "### `to_icm()`"
   ]
  },
  {
   "cell_type": "code",
   "execution_count": null,
   "metadata": {
    "collapsed": false,
    "slideshow": {
     "slide_type": "fragment"
    }
   },
   "outputs": [],
   "source": [
    "qcirc = QubitCircuit(1)\n",
    "qcirc.add_gate(\"RX\", targets=[0], arg_value=np.pi / 2, arg_label=r\"\\pi/2\")\n",
    "\n",
    "display_gates(qcirc)"
   ]
  },
  {
   "cell_type": "code",
   "execution_count": null,
   "metadata": {
    "collapsed": false,
    "slideshow": {
     "slide_type": "slide"
    }
   },
   "outputs": [],
   "source": [
    "model = Icm(qcirc)\n",
    "icm_representation = model.to_icm()\n",
    "\n",
    "print(\"Number of qubits in gate is\", icm_representation.N)\n",
    "display_gates(icm_representation)"
   ]
  },
  {
   "cell_type": "code",
   "execution_count": null,
   "metadata": {
    "collapsed": false,
    "slideshow": {
     "slide_type": "slide"
    }
   },
   "outputs": [],
   "source": [
    "qcirc = QubitCircuit(1)\n",
    "qcirc.add_gate(\"RZ\", targets=[0], arg_value=np.pi / 2, arg_label=r\"\\pi/2\")\n",
    "\n",
    "model = Icm(qcirc)\n",
    "icm_representation = model.to_icm()\n",
    "\n",
    "print(\"Number of qubits in gate is\", icm_representation.N)\n",
    "display_gates(icm_representation)"
   ]
  },
  {
   "cell_type": "code",
   "execution_count": null,
   "metadata": {
    "collapsed": false,
    "slideshow": {
     "slide_type": "slide"
    }
   },
   "outputs": [],
   "source": [
    "qcirc = QubitCircuit(2)\n",
    "qcirc.add_gate(\"CNOT\", controls=[0], targets=[1])\n",
    "qcirc.add_gate(\"RZ\", targets=[1], arg_value=np.pi / 2, arg_label=r\"\\pi/2\")\n",
    "qcirc.add_gate(\"CNOT\", targets=[0], controls=[1])\n",
    "qcirc.add_gate(\"RX\", targets=[1], arg_value=np.pi / 2, arg_label=r\"\\pi/2\")\n",
    "\n",
    "model = Icm(qcirc)\n",
    "icm_representation = model.to_icm()\n",
    "\n",
    "print(\"Number of qubits in gate is\", icm_representation.N)\n",
    "display_gates(icm_representation)"
   ]
  },
  {
   "cell_type": "markdown",
   "metadata": {
    "slideshow": {
     "slide_type": "slide"
    }
   },
   "source": [
    "# Remaining work\n",
    "\n",
    "* Implement the T gate using selective source and selective destination\n",
    "\n",
    "* Implement conjugate gates\n",
    "\n",
    "* More testing and verification\n",
    "\n",
    "* TQC conversion and visualization"
   ]
  },
  {
   "cell_type": "code",
   "execution_count": 2,
   "metadata": {
    "collapsed": false
   },
   "outputs": [],
   "source": [
    "import numpy as np\n",
    "from qutip import QubitCircuit\n",
    "from qutip.qip.icm import Icm\n",
    "\n",
    "qcirc = QubitCircuit(2, reverse_states=False)\n",
    "qcirc.add_gate(\"CNOT\", targets= [0], controls=[1])\n",
    "qcirc.add_gate(\"CNOT\", targets= [0], controls=[1])\n",
    "qcirc.add_gate(\"RZ\", arg_value = np.pi / 4, arg_label=r\"\\pi/4\", targets=[0])\n",
    "qcirc.add_gate(\"CNOT\", targets= [0], controls=[1])\n",
    "qcirc.add_gate(\"CNOT\", targets= [0], controls=[1])"
   ]
  },
  {
   "cell_type": "code",
   "execution_count": 3,
   "metadata": {
    "collapsed": false
   },
   "outputs": [
    {
     "name": "stderr",
     "output_type": "stream",
     "text": [
      "/Users/shahnawaz/dev/qutip/qutip/qip/circuit.py:153: UserWarning: Unknown gate A_state\n",
      "  warnings.warn(\"Unknown gate %s\" % name)\n",
      "/Users/shahnawaz/dev/qutip/qutip/qip/circuit.py:153: UserWarning: Unknown gate 0_state\n",
      "  warnings.warn(\"Unknown gate %s\" % name)\n",
      "/Users/shahnawaz/dev/qutip/qutip/qip/circuit.py:153: UserWarning: Unknown gate Y_state\n",
      "  warnings.warn(\"Unknown gate %s\" % name)\n",
      "/Users/shahnawaz/dev/qutip/qutip/qip/circuit.py:153: UserWarning: Unknown gate +_state\n",
      "  warnings.warn(\"Unknown gate %s\" % name)\n"
     ]
    },
    {
     "data": {
      "image/png": "[encoded data removed]",
      "text/plain": [
       "<IPython.core.display.Image object>"
      ]
     },
     "execution_count": 3,
     "metadata": {},
     "output_type": "execute_result"
    }
   ],
   "source": [
    "model = Icm(qcirc)\n",
    "\n",
    "icm_representation = model.to_icm()\n",
    "\n",
    "icm_representation.png"
   ]
  },
  {
   "cell_type": "code",
   "execution_count": null,
   "metadata": {
    "collapsed": true
   },
   "outputs": [],
   "source": []
  }
 ],
 "metadata": {
  "anaconda-cloud": {},
  "celltoolbar": "Slideshow",
  "kernelspec": {
   "display_name": "Python [conda root]",
   "language": "python",
   "name": "conda-root-py"
  },
  "language_info": {
   "codemirror_mode": {
    "name": "ipython",
    "version": 3
   },
   "file_extension": ".py",
   "mimetype": "text/x-python",
   "name": "python",
   "nbconvert_exporter": "python",
   "pygments_lexer": "ipython3",
   "version": "3.5.2"
  },
  "nbpresent": {
   "slides": {
    "03d394e4-2ab7-408f-beff-4c9027124b51": {
     "id": "03d394e4-2ab7-408f-beff-4c9027124b51",
     "prev": "16d36f01-d204-4422-b8c3-bb8f1908ac84",
     "regions": {
      "8a0f01cd-9a51-4cc7-a85c-d04197b64ef4": {
       "attrs": {
        "height": 0.8,
        "width": 0.8,
        "x": 0.1,
        "y": 0.1
       },
       "content": {
        "cell": "86f81dcc-0b97-475f-b17d-ebc03455b9e2",
        "part": "whole"
       },
       "id": "8a0f01cd-9a51-4cc7-a85c-d04197b64ef4"
      }
     }
    },
    "0dae2079-605f-48ed-82f9-ee0356990424": {
     "id": "0dae2079-605f-48ed-82f9-ee0356990424",
     "prev": "f1f5c433-7012-4725-adad-87e6ddc70e6a",
     "regions": {
      "39f759d7-3578-403b-86fd-10ec9cbab3fe": {
       "attrs": {
        "height": 0.8,
        "width": 0.8,
        "x": 0.1,
        "y": 0.1
       },
       "content": {
        "cell": "56597568-41e1-4cc7-b88c-10713572e666",
        "part": "whole"
       },
       "id": "39f759d7-3578-403b-86fd-10ec9cbab3fe"
      }
     }
    },
    "16d36f01-d204-4422-b8c3-bb8f1908ac84": {
     "id": "16d36f01-d204-4422-b8c3-bb8f1908ac84",
     "prev": "2d7b1e79-001a-4c5e-83cf-1a493e78f5af",
     "regions": {
      "5954edde-6953-44d2-94e9-b69f81a1e84e": {
       "attrs": {
        "height": 0.8,
        "width": 0.8,
        "x": 0.1,
        "y": 0.1
       },
       "content": {
        "cell": "8465382b-ef37-453a-a430-c4237fc2c540",
        "part": "whole"
       },
       "id": "5954edde-6953-44d2-94e9-b69f81a1e84e"
      }
     }
    },
    "2d7b1e79-001a-4c5e-83cf-1a493e78f5af": {
     "id": "2d7b1e79-001a-4c5e-83cf-1a493e78f5af",
     "prev": null,
     "regions": {
      "0a59fe66-1d80-4b2b-8a97-698028ed9224": {
       "attrs": {
        "height": 0.8,
        "width": 0.8,
        "x": 0.1,
        "y": 0.1
       },
       "content": {
        "cell": "6984c2e0-2134-4e83-a320-02fb88ae0084",
        "part": "whole"
       },
       "id": "0a59fe66-1d80-4b2b-8a97-698028ed9224"
      }
     }
    },
    "63f7e360-3b85-484a-8cd8-199c56a80448": {
     "id": "63f7e360-3b85-484a-8cd8-199c56a80448",
     "prev": "6f3ca93e-843c-4599-b452-3332633cfd32",
     "regions": {
      "60917890-588f-4d41-8e64-777f69eaf6da": {
       "attrs": {
        "height": 0.8,
        "width": 0.8,
        "x": 0.1,
        "y": 0.1
       },
       "content": {
        "cell": "8b817599-e2b2-42ec-b16f-00847d4f9947",
        "part": "whole"
       },
       "id": "60917890-588f-4d41-8e64-777f69eaf6da"
      }
     }
    },
    "6f3ca93e-843c-4599-b452-3332633cfd32": {
     "id": "6f3ca93e-843c-4599-b452-3332633cfd32",
     "prev": "b8598d82-bec8-4e0d-828f-a205ac165e9a",
     "regions": {
      "e61e6db5-0285-43aa-b266-85e71e87ad64": {
       "attrs": {
        "height": 0.8,
        "width": 0.8,
        "x": 0.1,
        "y": 0.1
       },
       "content": {
        "cell": "38065c80-9c3d-45a3-8a8f-06b4d5f05b23",
        "part": "whole"
       },
       "id": "e61e6db5-0285-43aa-b266-85e71e87ad64"
      }
     }
    },
    "b07f2f61-f752-4209-8278-8d1827bc9f65": {
     "id": "b07f2f61-f752-4209-8278-8d1827bc9f65",
     "prev": "63f7e360-3b85-484a-8cd8-199c56a80448",
     "regions": {
      "a6b49000-8ca4-4c62-b8b3-7761c6d68765": {
       "attrs": {
        "height": 0.8,
        "width": 0.8,
        "x": 0.1,
        "y": 0.1
       },
       "content": {
        "cell": "c45e9bcd-0a13-4bf3-959e-286cdc573122",
        "part": "whole"
       },
       "id": "a6b49000-8ca4-4c62-b8b3-7761c6d68765"
      }
     }
    },
    "b8598d82-bec8-4e0d-828f-a205ac165e9a": {
     "id": "b8598d82-bec8-4e0d-828f-a205ac165e9a",
     "prev": "fce4626b-2213-4784-b241-8b1a494c9113",
     "regions": {
      "40f76d6f-bb13-466b-ab6a-8775016ada6c": {
       "attrs": {
        "height": 0.8,
        "width": 0.8,
        "x": 0.1,
        "y": 0.1
       },
       "content": {
        "cell": "4da74c4e-cc56-4b70-b25b-2655ca1bdcf1",
        "part": "whole"
       },
       "id": "40f76d6f-bb13-466b-ab6a-8775016ada6c"
      }
     }
    },
    "f1f5c433-7012-4725-adad-87e6ddc70e6a": {
     "id": "f1f5c433-7012-4725-adad-87e6ddc70e6a",
     "prev": "03d394e4-2ab7-408f-beff-4c9027124b51",
     "regions": {
      "affae950-1c9e-461e-bb4b-471831b40ac2": {
       "attrs": {
        "height": 0.8,
        "width": 0.8,
        "x": 0.1,
        "y": 0.1
       },
       "content": {
        "cell": "fe604e4a-5e7e-4ca2-8a15-51623021b78b",
        "part": "whole"
       },
       "id": "affae950-1c9e-461e-bb4b-471831b40ac2"
      }
     }
    },
    "f319c01c-0a4b-4afc-a8bb-cc4c775cde0c": {
     "id": "f319c01c-0a4b-4afc-a8bb-cc4c775cde0c",
     "prev": "b07f2f61-f752-4209-8278-8d1827bc9f65",
     "regions": {
      "66944db8-9da3-41b6-9081-6d5f35351045": {
       "attrs": {
        "height": 0.8,
        "width": 0.8,
        "x": 0.1,
        "y": 0.1
       },
       "content": {
        "cell": "ee044e2d-034f-416f-8ae3-fc2e8afae065",
        "part": "whole"
       },
       "id": "66944db8-9da3-41b6-9081-6d5f35351045"
      }
     }
    },
    "fce4626b-2213-4784-b241-8b1a494c9113": {
     "id": "fce4626b-2213-4784-b241-8b1a494c9113",
     "prev": "0dae2079-605f-48ed-82f9-ee0356990424",
     "regions": {
      "14b8a66c-0cf6-4d6b-8149-e9a8022aa866": {
       "attrs": {
        "height": 0.8,
        "width": 0.8,
        "x": 0.1,
        "y": 0.1
       },
       "content": {
        "cell": "6fcdcf22-56f3-4436-a759-69cecad65e0d",
        "part": "whole"
       },
       "id": "14b8a66c-0cf6-4d6b-8149-e9a8022aa866"
      }
     }
    }
   },
   "themes": {
    "default": "435602fe-7dbf-49e4-b867-68a12a49491c",
    "theme": {
     "435602fe-7dbf-49e4-b867-68a12a49491c": {
      "id": "435602fe-7dbf-49e4-b867-68a12a49491c",
      "palette": {
       "19cc588f-0593-49c9-9f4b-e4d7cc113b1c": {
        "id": "19cc588f-0593-49c9-9f4b-e4d7cc113b1c",
        "rgb": [
         252,
         252,
         252
        ]
       },
       "31af15d2-7e15-44c5-ab5e-e04b16a89eff": {
        "id": "31af15d2-7e15-44c5-ab5e-e04b16a89eff",
        "rgb": [
         68,
         68,
         68
        ]
       },
       "50f92c45-a630-455b-aec3-788680ec7410": {
        "id": "50f92c45-a630-455b-aec3-788680ec7410",
        "rgb": [
         155,
         177,
         192
        ]
       },
       "c5cc3653-2ee1-402a-aba2-7caae1da4f6c": {
        "id": "c5cc3653-2ee1-402a-aba2-7caae1da4f6c",
        "rgb": [
         43,
         126,
         184
        ]
       },
       "efa7f048-9acb-414c-8b04-a26811511a21": {
        "id": "efa7f048-9acb-414c-8b04-a26811511a21",
        "rgb": [
         25.118061674008803,
         73.60176211453744,
         107.4819383259912
        ]
       }
      },
      "rules": {
       "blockquote": {
        "color": "50f92c45-a630-455b-aec3-788680ec7410"
       },
       "code": {
        "font-family": "Anonymous Pro"
       },
       "h1": {
        "color": "c5cc3653-2ee1-402a-aba2-7caae1da4f6c",
        "font-family": "Lato",
        "font-size": 8
       },
       "h2": {
        "color": "c5cc3653-2ee1-402a-aba2-7caae1da4f6c",
        "font-family": "Lato",
        "font-size": 6
       },
       "h3": {
        "color": "50f92c45-a630-455b-aec3-788680ec7410",
        "font-family": "Lato",
        "font-size": 5.5
       },
       "h4": {
        "color": "c5cc3653-2ee1-402a-aba2-7caae1da4f6c",
        "font-family": "Lato",
        "font-size": 5
       },
       "h5": {
        "font-family": "Lato"
       },
       "h6": {
        "font-family": "Lato"
       },
       "h7": {
        "font-family": "Lato"
       },
       "pre": {
        "font-family": "Anonymous Pro",
        "font-size": 4
       }
      },
      "text-base": {
       "font-family": "Merriweather",
       "font-size": 4
      }
     }
    }
   }
  }
 },
 "nbformat": 4,
 "nbformat_minor": 1
}
