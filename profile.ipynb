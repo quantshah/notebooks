{
 "cells": [
  {
   "cell_type": "code",
   "execution_count": 50,
   "metadata": {
    "collapsed": false
   },
   "outputs": [],
   "source": [
    "from timeit import timeit"
   ]
  },
  {
   "cell_type": "code",
   "execution_count": 58,
   "metadata": {
    "collapsed": false
   },
   "outputs": [],
   "source": [
    "op = \"\"\"\n",
    "import numpy as np\n",
    "from scipy.optimize import minimize\n",
    "from dipy.core.optimize import Optimizer\n",
    "def rosen(x):\n",
    "     return sum(100.0*(x[1:]-x[:-1]**2.0)**2.0 + (1-x[:-1])**2.0)\n",
    "\n",
    "x0 = np.array([1.3, 0.7, 0.8, 1.9, 1.2])\n",
    "res = minimize(rosen, x0, method='nelder-mead', options={'xtol': 1e-8,})\n",
    "\"\"\""
   ]
  },
  {
   "cell_type": "code",
   "execution_count": 59,
   "metadata": {
    "collapsed": false
   },
   "outputs": [],
   "source": [
    "optm = \"\"\"\n",
    "import numpy as np\n",
    "from scipy.optimize import minimize\n",
    "from dipy.core.optimize import Optimizer\n",
    "def rosen(x):\n",
    "     return sum(100.0*(x[1:]-x[:-1]**2.0)**2.0 + (1-x[:-1])**2.0)\n",
    "\n",
    "x0 = np.array([1.3, 0.7, 0.8, 1.9, 1.2])\n",
    "res = Optimizer(rosen, x0, method='nelder-mead', options={'xtol': 1e-8,})\n",
    "\"\"\""
   ]
  },
  {
   "cell_type": "code",
   "execution_count": 60,
   "metadata": {
    "collapsed": false
   },
   "outputs": [
    {
     "name": "stdout",
     "output_type": "stream",
     "text": [
      "Time taken for core.Optimize : 29.677384773000085\n",
      "Time taken for scipy.optimize : 29.868785957\n"
     ]
    }
   ],
   "source": [
    "print(\"Time taken for core.Optimize :\",timeit(optm, number=1000))\n",
    "print(\"Time taken for scipy.optimize :\",timeit(op, number=1000))"
   ]
  },
  {
   "cell_type": "code",
   "execution_count": 55,
   "metadata": {
    "collapsed": true
   },
   "outputs": [],
   "source": [
    "dipy_Optimizer = \"\"\"\n",
    "from dipy.reconst.ivim import _ivim_error, ivim_function\n",
    "from dipy.core.gradients import gradient_table, generate_bvecs\n",
    "from dipy.core.optimize import Optimizer\n",
    "from scipy.optimize import minimize\n",
    "import numpy as np\n",
    "\n",
    "bvals = np.array([0., 10., 20., 30., 40., 60., 80., 100.,\n",
    "                  120., 140., 160., 180., 200., 220., 240.,\n",
    "                  260., 280., 300., 350., 400., 500., 600.,\n",
    "                  700., 800., 900., 1000.])\n",
    "N = len(bvals)\n",
    "bvecs = generate_bvecs(N)\n",
    "gtab = gradient_table(bvals, bvecs.T)\n",
    "\n",
    "params = [1.0, 0.132, 0.00885, 0.000921]\n",
    "x0 = [[1., 0.5, 0.001, 0.0001],]\n",
    "\n",
    "data = np.array([ivim_function(params, bvals),])\n",
    "sum_sq = lambda params, bvals, data: np.sum(\n",
    "        _ivim_error(params, bvals, data)**2)\n",
    "\n",
    "num_voxels = data.shape[0]\n",
    "\n",
    "result = np.empty(num_voxels, dtype=object)\n",
    "\n",
    "for vox in range(num_voxels):\n",
    "    res = Optimizer(sum_sq,\n",
    "                    x0[vox],\n",
    "                    args=(bvals, data[vox]))\n",
    "    result[vox] = res\n",
    "\"\"\""
   ]
  },
  {
   "cell_type": "code",
   "execution_count": 56,
   "metadata": {
    "collapsed": true
   },
   "outputs": [],
   "source": [
    "scipy_optimizer = \"\"\"\n",
    "from dipy.reconst.ivim import _ivim_error, ivim_function\n",
    "from dipy.core.gradients import gradient_table, generate_bvecs\n",
    "from dipy.core.optimize import Optimizer\n",
    "from scipy.optimize import minimize\n",
    "import numpy as np\n",
    "\n",
    "bvals = np.array([0., 10., 20., 30., 40., 60., 80., 100.,\n",
    "                  120., 140., 160., 180., 200., 220., 240.,\n",
    "                  260., 280., 300., 350., 400., 500., 600.,\n",
    "                  700., 800., 900., 1000.])\n",
    "N = len(bvals)\n",
    "bvecs = generate_bvecs(N)\n",
    "gtab = gradient_table(bvals, bvecs.T)\n",
    "\n",
    "params = [1.0, 0.132, 0.00885, 0.000921]\n",
    "x0 = [[1., 0.5, 0.001, 0.0001],]\n",
    "\n",
    "data = np.array([ivim_function(params, bvals),])\n",
    "sum_sq = lambda params, bvals, data: np.sum(\n",
    "        _ivim_error(params, bvals, data)**2)\n",
    "\n",
    "num_voxels = data.shape[0]\n",
    "\n",
    "result = np.empty(num_voxels, dtype=object)\n",
    "\n",
    "for vox in range(num_voxels):\n",
    "    res = minimize(sum_sq,\n",
    "                    x0[vox],\n",
    "                    args=(bvals, data[vox]))\n",
    "    result[vox] = res\n",
    "\"\"\""
   ]
  },
  {
   "cell_type": "code",
   "execution_count": 57,
   "metadata": {
    "collapsed": false
   },
   "outputs": [
    {
     "name": "stdout",
     "output_type": "stream",
     "text": [
      "Time taken for core.Optimize : 18.195407083000646\n",
      "Time taken for scipy.Optimize : 18.237980531000176\n"
     ]
    }
   ],
   "source": [
    "print(\"Time taken for core.Optimize :\",timeit(dipy_Optimizer, number=10))\n",
    "print(\"Time taken for scipy.Optimize :\",timeit(scipy_optimizer, number=10))"
   ]
  }
 ],
 "metadata": {
  "kernelspec": {
   "display_name": "Python 3",
   "language": "python",
   "name": "python3"
  },
  "language_info": {
   "codemirror_mode": {
    "name": "ipython",
    "version": 3
   },
   "file_extension": ".py",
   "mimetype": "text/x-python",
   "name": "python",
   "nbconvert_exporter": "python",
   "pygments_lexer": "ipython3",
   "version": "3.4.3"
  }
 },
 "nbformat": 4,
 "nbformat_minor": 0
}
