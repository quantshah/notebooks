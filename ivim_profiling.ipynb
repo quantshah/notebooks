{
 "cells": [
  {
   "cell_type": "code",
   "execution_count": 1,
   "metadata": {
    "collapsed": false
   },
   "outputs": [
    {
     "name": "stdout",
     "output_type": "stream",
     "text": [
      "Dataset is already in place. If you want to fetch it again please first remove the folder /home/shahnawaz/.dipy/ivim \n",
      "data.shape (256, 256, 54, 21)\n"
     ]
    }
   ],
   "source": [
    "from dipy.reconst.ivim import IvimModel, ivim_function\n",
    "from dipy.data.fetcher import read_ivim\n",
    "\n",
    "img, gtab = read_ivim()\n",
    "\n",
    "data = img.get_data()\n",
    "print('data.shape (%d, %d, %d, %d)' % data.shape)\n",
    "\n",
    "z = 33\n",
    "b = 20"
   ]
  },
  {
   "cell_type": "code",
   "execution_count": 2,
   "metadata": {
    "collapsed": true
   },
   "outputs": [],
   "source": [
    "x1, x2 = 160, 180\n",
    "y1, y2 = 90, 110\n",
    "data_slice = data[x1:x2, y1:y2, z, :]"
   ]
  },
  {
   "cell_type": "code",
   "execution_count": 3,
   "metadata": {
    "collapsed": false
   },
   "outputs": [
    {
     "name": "stderr",
     "output_type": "stream",
     "text": [
      "/home/shahnawaz/dev/gsoc16/dipy/dipy/reconst/ivim.py:60: RuntimeWarning: overflow encountered in exp\n",
      "  S = S0 * (f * np.exp(-bvals * D_star) + (1 - f) * np.exp(-bvals * D))\n",
      "/usr/local/lib/python3.4/dist-packages/scipy/optimize/minpack.py:421: RuntimeWarning: Number of calls to function has reached maxfev = 1000.\n",
      "  warnings.warn(errors[info][0], RuntimeWarning)\n",
      "/home/shahnawaz/dev/gsoc16/dipy/dipy/reconst/ivim.py:60: RuntimeWarning: overflow encountered in multiply\n",
      "  S = S0 * (f * np.exp(-bvals * D_star) + (1 - f) * np.exp(-bvals * D))\n"
     ]
    },
    {
     "name": "stdout",
     "output_type": "stream",
     "text": [
      "1 loop, best of 3: 1.44 s per loop\n"
     ]
    }
   ],
   "source": [
    "ivimmodel = IvimModel(gtab, fit_method=\"one_stage\", jac=None)\n",
    "%timeit ivimmodel.fit(data_slice)"
   ]
  },
  {
   "cell_type": "code",
   "execution_count": 11,
   "metadata": {
    "collapsed": false
   },
   "outputs": [
    {
     "name": "stderr",
     "output_type": "stream",
     "text": [
      "/usr/local/lib/python3.4/dist-packages/scipy/optimize/minpack.py:421: RuntimeWarning: Number of calls to function has reached maxfev = 1000.\n",
      "  warnings.warn(errors[info][0], RuntimeWarning)\n",
      "/home/shahnawaz/dev/gsoc16/dipy/dipy/reconst/ivim.py:60: RuntimeWarning: overflow encountered in exp\n",
      "  S = S0 * (f * np.exp(-bvals * D_star) + (1 - f) * np.exp(-bvals * D))\n"
     ]
    },
    {
     "name": "stdout",
     "output_type": "stream",
     "text": [
      "1 loop, best of 3: 1.94 s per loop\n"
     ]
    }
   ],
   "source": [
    "ivimmodel_with_jac = IvimModel(gtab, fit_method=\"two_stage\", jac=None)\n",
    "%timeit ivimmodel_with_jac.fit(data_slice)"
   ]
  },
  {
   "cell_type": "code",
   "execution_count": 12,
   "metadata": {
    "collapsed": false
   },
   "outputs": [
    {
     "name": "stderr",
     "output_type": "stream",
     "text": [
      "/home/shahnawaz/dev/gsoc16/dipy/dipy/reconst/ivim.py:60: RuntimeWarning: overflow encountered in exp\n",
      "  S = S0 * (f * np.exp(-bvals * D_star) + (1 - f) * np.exp(-bvals * D))\n",
      "/home/shahnawaz/dev/gsoc16/dipy/dipy/reconst/ivim.py:60: RuntimeWarning: overflow encountered in multiply\n",
      "  S = S0 * (f * np.exp(-bvals * D_star) + (1 - f) * np.exp(-bvals * D))\n"
     ]
    },
    {
     "name": "stdout",
     "output_type": "stream",
     "text": [
      "1 loop, best of 3: 258 ms per loop\n"
     ]
    }
   ],
   "source": [
    "ivimmodel_with_jac = IvimModel(gtab, fit_method=\"one_stage\", jac=True)\n",
    "%timeit ivimmodel_with_jac.fit(data_slice)"
   ]
  },
  {
   "cell_type": "code",
   "execution_count": 13,
   "metadata": {
    "collapsed": false
   },
   "outputs": [
    {
     "name": "stderr",
     "output_type": "stream",
     "text": [
      "/home/shahnawaz/dev/gsoc16/dipy/dipy/reconst/ivim.py:60: RuntimeWarning: overflow encountered in exp\n",
      "  S = S0 * (f * np.exp(-bvals * D_star) + (1 - f) * np.exp(-bvals * D))\n",
      "/home/shahnawaz/dev/gsoc16/dipy/dipy/reconst/ivim.py:60: RuntimeWarning: overflow encountered in multiply\n",
      "  S = S0 * (f * np.exp(-bvals * D_star) + (1 - f) * np.exp(-bvals * D))\n"
     ]
    },
    {
     "name": "stdout",
     "output_type": "stream",
     "text": [
      "1 loop, best of 3: 257 ms per loop\n"
     ]
    }
   ],
   "source": [
    "ivimmodel_with_jac_two_stage = IvimModel(gtab, fit_method=\"two_stage\", jac=True)\n",
    "%timeit ivimmodel_with_jac.fit(data_slice)"
   ]
  }
 ],
 "metadata": {
  "kernelspec": {
   "display_name": "Python 3",
   "language": "python",
   "name": "python3"
  },
  "language_info": {
   "codemirror_mode": {
    "name": "ipython",
    "version": 3
   },
   "file_extension": ".py",
   "mimetype": "text/x-python",
   "name": "python",
   "nbconvert_exporter": "python",
   "pygments_lexer": "ipython3",
   "version": "3.4.3"
  }
 },
 "nbformat": 4,
 "nbformat_minor": 0
}
